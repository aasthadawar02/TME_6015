{
  "nbformat": 4,
  "nbformat_minor": 0,
  "metadata": {
    "colab": {
      "provenance": [],
      "authorship_tag": "ABX9TyMjIPyrKdGqcBsduOWx8w8l",
      "include_colab_link": true
    },
    "kernelspec": {
      "name": "python3",
      "display_name": "Python 3"
    },
    "language_info": {
      "name": "python"
    }
  },
  "cells": [
    {
      "cell_type": "markdown",
      "metadata": {
        "id": "view-in-github",
        "colab_type": "text"
      },
      "source": [
        "<a href=\"https://colab.research.google.com/github/aasthadawar02/TME_6015/blob/main/Assignment_1.ipynb\" target=\"_parent\"><img src=\"https://colab.research.google.com/assets/colab-badge.svg\" alt=\"Open In Colab\"/></a>"
      ]
    },
    {
      "cell_type": "code",
      "execution_count": 3,
      "metadata": {
        "colab": {
          "base_uri": "https://localhost:8080/"
        },
        "id": "zHIe8c6n0RMI",
        "outputId": "ce2f6b8b-f070-4d61-91ba-773697f5916b"
      },
      "outputs": [
        {
          "output_type": "stream",
          "name": "stdout",
          "text": [
            "Mounted at /content/drive\n"
          ]
        }
      ],
      "source": [
        "from google.colab import drive\n",
        "drive.mount('/content/drive')"
      ]
    },
    {
      "cell_type": "code",
      "source": [
        "import tensorflow as tf\n",
        "from tensorflow.keras.datasets import mnist\n",
        "from tensorflow.keras.preprocessing import image\n",
        "import numpy as np\n",
        "import os\n",
        "from PIL import Image, ImageFilter\n",
        "import matplotlib.pyplot as plt\n",
        "from tensorflow.keras import datasets, layers, models\n",
        "from google.colab import drive\n",
        "from sklearn.metrics import accuracy_score"
      ],
      "metadata": {
        "id": "nl2PCklO0m3R"
      },
      "execution_count": 22,
      "outputs": []
    },
    {
      "cell_type": "code",
      "source": [
        "#Load MNIST Dataset\n",
        "(x_train, y_train), (x_test, y_test) = mnist.load_data()"
      ],
      "metadata": {
        "colab": {
          "base_uri": "https://localhost:8080/"
        },
        "id": "ae0Uwjv_3Me_",
        "outputId": "0e34c389-a5a8-4931-ab1c-b1eccc263849"
      },
      "execution_count": 5,
      "outputs": [
        {
          "output_type": "stream",
          "name": "stdout",
          "text": [
            "Downloading data from https://storage.googleapis.com/tensorflow/tf-keras-datasets/mnist.npz\n",
            "11490434/11490434 [==============================] - 0s 0us/step\n"
          ]
        }
      ]
    },
    {
      "cell_type": "code",
      "source": [
        "x_train"
      ],
      "metadata": {
        "colab": {
          "base_uri": "https://localhost:8080/"
        },
        "id": "RYLPK7163bb7",
        "outputId": "a2ad8adc-ebdd-4b53-d090-d0d6bf3a195e"
      },
      "execution_count": 6,
      "outputs": [
        {
          "output_type": "execute_result",
          "data": {
            "text/plain": [
              "array([[[0, 0, 0, ..., 0, 0, 0],\n",
              "        [0, 0, 0, ..., 0, 0, 0],\n",
              "        [0, 0, 0, ..., 0, 0, 0],\n",
              "        ...,\n",
              "        [0, 0, 0, ..., 0, 0, 0],\n",
              "        [0, 0, 0, ..., 0, 0, 0],\n",
              "        [0, 0, 0, ..., 0, 0, 0]],\n",
              "\n",
              "       [[0, 0, 0, ..., 0, 0, 0],\n",
              "        [0, 0, 0, ..., 0, 0, 0],\n",
              "        [0, 0, 0, ..., 0, 0, 0],\n",
              "        ...,\n",
              "        [0, 0, 0, ..., 0, 0, 0],\n",
              "        [0, 0, 0, ..., 0, 0, 0],\n",
              "        [0, 0, 0, ..., 0, 0, 0]],\n",
              "\n",
              "       [[0, 0, 0, ..., 0, 0, 0],\n",
              "        [0, 0, 0, ..., 0, 0, 0],\n",
              "        [0, 0, 0, ..., 0, 0, 0],\n",
              "        ...,\n",
              "        [0, 0, 0, ..., 0, 0, 0],\n",
              "        [0, 0, 0, ..., 0, 0, 0],\n",
              "        [0, 0, 0, ..., 0, 0, 0]],\n",
              "\n",
              "       ...,\n",
              "\n",
              "       [[0, 0, 0, ..., 0, 0, 0],\n",
              "        [0, 0, 0, ..., 0, 0, 0],\n",
              "        [0, 0, 0, ..., 0, 0, 0],\n",
              "        ...,\n",
              "        [0, 0, 0, ..., 0, 0, 0],\n",
              "        [0, 0, 0, ..., 0, 0, 0],\n",
              "        [0, 0, 0, ..., 0, 0, 0]],\n",
              "\n",
              "       [[0, 0, 0, ..., 0, 0, 0],\n",
              "        [0, 0, 0, ..., 0, 0, 0],\n",
              "        [0, 0, 0, ..., 0, 0, 0],\n",
              "        ...,\n",
              "        [0, 0, 0, ..., 0, 0, 0],\n",
              "        [0, 0, 0, ..., 0, 0, 0],\n",
              "        [0, 0, 0, ..., 0, 0, 0]],\n",
              "\n",
              "       [[0, 0, 0, ..., 0, 0, 0],\n",
              "        [0, 0, 0, ..., 0, 0, 0],\n",
              "        [0, 0, 0, ..., 0, 0, 0],\n",
              "        ...,\n",
              "        [0, 0, 0, ..., 0, 0, 0],\n",
              "        [0, 0, 0, ..., 0, 0, 0],\n",
              "        [0, 0, 0, ..., 0, 0, 0]]], dtype=uint8)"
            ]
          },
          "metadata": {},
          "execution_count": 6
        }
      ]
    },
    {
      "cell_type": "code",
      "source": [
        "import matplotlib.pyplot as plt\n",
        "\n",
        "# Display the first few images from the training dataset\n",
        "for i in range(5):\n",
        "    plt.subplot(1, 5, i + 1)\n",
        "    plt.imshow(x_train[i], cmap='gray')\n",
        "    plt.title(f\"Label: {y_train[i]}\")\n",
        "    plt.axis('off')\n",
        "\n",
        "plt.show()"
      ],
      "metadata": {
        "colab": {
          "base_uri": "https://localhost:8080/",
          "height": 144
        },
        "id": "VieHv_0R3tWo",
        "outputId": "040cbff8-ee72-49ba-ba58-0b4b98df67fd"
      },
      "execution_count": 6,
      "outputs": [
        {
          "output_type": "display_data",
          "data": {
            "text/plain": [
              "<Figure size 640x480 with 5 Axes>"
            ],
            "image/png": "[encoded data removed]"
          },
          "metadata": {}
        }
      ]
    },
    {
      "cell_type": "code",
      "source": [
        "from tensorflow.keras.models import Sequential\n",
        "from tensorflow.keras.layers import Flatten, Dense\n",
        "from tensorflow.keras.utils import to_categorical"
      ],
      "metadata": {
        "id": "IWrDAp9d4Dzc"
      },
      "execution_count": 7,
      "outputs": []
    },
    {
      "cell_type": "code",
      "source": [
        "# Preprocess the data\n",
        "x_train = x_train / 255.0\n",
        "x_test = x_test / 255.0\n",
        "y_train = to_categorical(y_train, 10)\n",
        "y_test = to_categorical(y_test, 10)"
      ],
      "metadata": {
        "id": "2uJmO6Sv-FQ7"
      },
      "execution_count": 8,
      "outputs": []
    },
    {
      "cell_type": "code",
      "source": [
        "# Create a simple neural network model\n",
        "model = Sequential([\n",
        "    Flatten(input_shape=(28, 28)),   # Flatten the 28x28 input images\n",
        "    Dense(128, activation='relu'),   # Fully connected layer with 128 units and ReLU activation\n",
        "    Dense(64, activation='relu'),    # Fully connected layer with 64 units and ReLU activation\n",
        "    Dense(10, activation='softmax')  # Output layer with 10 units (for 10 classes) and softmax activation\n",
        "])"
      ],
      "metadata": {
        "id": "_MDFyGHy-K2Q"
      },
      "execution_count": 9,
      "outputs": []
    },
    {
      "cell_type": "code",
      "source": [
        "# Compile the model\n",
        "model.compile(optimizer='adam', loss='categorical_crossentropy', metrics=['accuracy'])"
      ],
      "metadata": {
        "id": "4-OIszai-P2I"
      },
      "execution_count": 10,
      "outputs": []
    },
    {
      "cell_type": "code",
      "source": [
        "# Train the model for at least 10 epochs\n",
        "history = model.fit(x_train, y_train, epochs=10, batch_size=32, validation_data=(x_test, y_test))"
      ],
      "metadata": {
        "colab": {
          "base_uri": "https://localhost:8080/"
        },
        "id": "kUfB-mHZ-UBn",
        "outputId": "6b8f76da-c18e-45c3-f7a1-2265caaa94f3"
      },
      "execution_count": 11,
      "outputs": [
        {
          "output_type": "stream",
          "name": "stdout",
          "text": [
            "Epoch 1/10\n",
            "1875/1875 [==============================] - 11s 4ms/step - loss: 0.2466 - accuracy: 0.9276 - val_loss: 0.1269 - val_accuracy: 0.9602\n",
            "Epoch 2/10\n",
            "1875/1875 [==============================] - 8s 4ms/step - loss: 0.1067 - accuracy: 0.9682 - val_loss: 0.0948 - val_accuracy: 0.9693\n",
            "Epoch 3/10\n",
            "1875/1875 [==============================] - 6s 3ms/step - loss: 0.0735 - accuracy: 0.9765 - val_loss: 0.0916 - val_accuracy: 0.9708\n",
            "Epoch 4/10\n",
            "1875/1875 [==============================] - 10s 5ms/step - loss: 0.0552 - accuracy: 0.9827 - val_loss: 0.0695 - val_accuracy: 0.9781\n",
            "Epoch 5/10\n",
            "1875/1875 [==============================] - 6s 3ms/step - loss: 0.0431 - accuracy: 0.9859 - val_loss: 0.0728 - val_accuracy: 0.9790\n",
            "Epoch 6/10\n",
            "1875/1875 [==============================] - 8s 4ms/step - loss: 0.0344 - accuracy: 0.9886 - val_loss: 0.0746 - val_accuracy: 0.9773\n",
            "Epoch 7/10\n",
            "1875/1875 [==============================] - 6s 3ms/step - loss: 0.0284 - accuracy: 0.9903 - val_loss: 0.0798 - val_accuracy: 0.9774\n",
            "Epoch 8/10\n",
            "1875/1875 [==============================] - 8s 4ms/step - loss: 0.0254 - accuracy: 0.9915 - val_loss: 0.1010 - val_accuracy: 0.9745\n",
            "Epoch 9/10\n",
            "1875/1875 [==============================] - 6s 3ms/step - loss: 0.0213 - accuracy: 0.9927 - val_loss: 0.0912 - val_accuracy: 0.9762\n",
            "Epoch 10/10\n",
            "1875/1875 [==============================] - 8s 4ms/step - loss: 0.0204 - accuracy: 0.9930 - val_loss: 0.0795 - val_accuracy: 0.9792\n"
          ]
        }
      ]
    },
    {
      "cell_type": "code",
      "source": [
        "# Train the model for a sufficient number of epochs to observe overfitting\n",
        "history = model.fit(x_train, y_train, epochs=30, batch_size=32, validation_data=(x_test, y_test))"
      ],
      "metadata": {
        "colab": {
          "base_uri": "https://localhost:8080/"
        },
        "id": "aQHEWh_s-Xm7",
        "outputId": "8032dd36-40b6-4705-9666-7bc34961a4f0"
      },
      "execution_count": 12,
      "outputs": [
        {
          "output_type": "stream",
          "name": "stdout",
          "text": [
            "Epoch 1/30\n",
            "1875/1875 [==============================] - 8s 4ms/step - loss: 0.0165 - accuracy: 0.9943 - val_loss: 0.1042 - val_accuracy: 0.9765\n",
            "Epoch 2/30\n",
            "1875/1875 [==============================] - 7s 4ms/step - loss: 0.0170 - accuracy: 0.9942 - val_loss: 0.0929 - val_accuracy: 0.9782\n",
            "Epoch 3/30\n",
            "1875/1875 [==============================] - 6s 3ms/step - loss: 0.0147 - accuracy: 0.9950 - val_loss: 0.0976 - val_accuracy: 0.9800\n",
            "Epoch 4/30\n",
            "1875/1875 [==============================] - 7s 4ms/step - loss: 0.0142 - accuracy: 0.9951 - val_loss: 0.0962 - val_accuracy: 0.9795\n",
            "Epoch 5/30\n",
            "1875/1875 [==============================] - 8s 4ms/step - loss: 0.0109 - accuracy: 0.9960 - val_loss: 0.1058 - val_accuracy: 0.9795\n",
            "Epoch 6/30\n",
            "1875/1875 [==============================] - 8s 4ms/step - loss: 0.0135 - accuracy: 0.9953 - val_loss: 0.1224 - val_accuracy: 0.9766\n",
            "Epoch 7/30\n",
            "1875/1875 [==============================] - 6s 3ms/step - loss: 0.0123 - accuracy: 0.9959 - val_loss: 0.1099 - val_accuracy: 0.9791\n",
            "Epoch 8/30\n",
            "1875/1875 [==============================] - 9s 5ms/step - loss: 0.0120 - accuracy: 0.9960 - val_loss: 0.1155 - val_accuracy: 0.9781\n",
            "Epoch 9/30\n",
            "1875/1875 [==============================] - 6s 3ms/step - loss: 0.0096 - accuracy: 0.9970 - val_loss: 0.0977 - val_accuracy: 0.9818\n",
            "Epoch 10/30\n",
            "1875/1875 [==============================] - 8s 4ms/step - loss: 0.0092 - accuracy: 0.9970 - val_loss: 0.1307 - val_accuracy: 0.9807\n",
            "Epoch 11/30\n",
            "1875/1875 [==============================] - 6s 3ms/step - loss: 0.0095 - accuracy: 0.9970 - val_loss: 0.1185 - val_accuracy: 0.9798\n",
            "Epoch 12/30\n",
            "1875/1875 [==============================] - 8s 4ms/step - loss: 0.0106 - accuracy: 0.9965 - val_loss: 0.1136 - val_accuracy: 0.9795\n",
            "Epoch 13/30\n",
            "1875/1875 [==============================] - 6s 3ms/step - loss: 0.0086 - accuracy: 0.9972 - val_loss: 0.1305 - val_accuracy: 0.9799\n",
            "Epoch 14/30\n",
            "1875/1875 [==============================] - 8s 4ms/step - loss: 0.0075 - accuracy: 0.9975 - val_loss: 0.1016 - val_accuracy: 0.9817\n",
            "Epoch 15/30\n",
            "1875/1875 [==============================] - 6s 3ms/step - loss: 0.0079 - accuracy: 0.9976 - val_loss: 0.1184 - val_accuracy: 0.9819\n",
            "Epoch 16/30\n",
            "1875/1875 [==============================] - 8s 4ms/step - loss: 0.0094 - accuracy: 0.9971 - val_loss: 0.1357 - val_accuracy: 0.9777\n",
            "Epoch 17/30\n",
            "1875/1875 [==============================] - 6s 3ms/step - loss: 0.0076 - accuracy: 0.9974 - val_loss: 0.1397 - val_accuracy: 0.9805\n",
            "Epoch 18/30\n",
            "1875/1875 [==============================] - 8s 4ms/step - loss: 0.0090 - accuracy: 0.9972 - val_loss: 0.1218 - val_accuracy: 0.9798\n",
            "Epoch 19/30\n",
            "1875/1875 [==============================] - 6s 3ms/step - loss: 0.0068 - accuracy: 0.9980 - val_loss: 0.1261 - val_accuracy: 0.9827\n",
            "Epoch 20/30\n",
            "1875/1875 [==============================] - 8s 4ms/step - loss: 0.0089 - accuracy: 0.9974 - val_loss: 0.1331 - val_accuracy: 0.9796\n",
            "Epoch 21/30\n",
            "1875/1875 [==============================] - 6s 3ms/step - loss: 0.0080 - accuracy: 0.9974 - val_loss: 0.1312 - val_accuracy: 0.9809\n",
            "Epoch 22/30\n",
            "1875/1875 [==============================] - 8s 4ms/step - loss: 0.0062 - accuracy: 0.9982 - val_loss: 0.1431 - val_accuracy: 0.9793\n",
            "Epoch 23/30\n",
            "1875/1875 [==============================] - 6s 3ms/step - loss: 0.0075 - accuracy: 0.9975 - val_loss: 0.1557 - val_accuracy: 0.9795\n",
            "Epoch 24/30\n",
            "1875/1875 [==============================] - 8s 4ms/step - loss: 0.0063 - accuracy: 0.9979 - val_loss: 0.1626 - val_accuracy: 0.9791\n",
            "Epoch 25/30\n",
            "1875/1875 [==============================] - 6s 3ms/step - loss: 0.0074 - accuracy: 0.9977 - val_loss: 0.1449 - val_accuracy: 0.9800\n",
            "Epoch 26/30\n",
            "1875/1875 [==============================] - 8s 4ms/step - loss: 0.0066 - accuracy: 0.9979 - val_loss: 0.1498 - val_accuracy: 0.9796\n",
            "Epoch 27/30\n",
            "1875/1875 [==============================] - 6s 3ms/step - loss: 0.0055 - accuracy: 0.9983 - val_loss: 0.1549 - val_accuracy: 0.9813\n",
            "Epoch 28/30\n",
            "1875/1875 [==============================] - 8s 4ms/step - loss: 0.0080 - accuracy: 0.9979 - val_loss: 0.1382 - val_accuracy: 0.9815\n",
            "Epoch 29/30\n",
            "1875/1875 [==============================] - 6s 3ms/step - loss: 0.0055 - accuracy: 0.9984 - val_loss: 0.1424 - val_accuracy: 0.9814\n",
            "Epoch 30/30\n",
            "1875/1875 [==============================] - 8s 4ms/step - loss: 0.0058 - accuracy: 0.9983 - val_loss: 0.1425 - val_accuracy: 0.9819\n"
          ]
        }
      ]
    },
    {
      "cell_type": "code",
      "source": [
        "# Plot training and validation accuracy curves\n",
        "plt.figure(figsize=(10, 5))\n",
        "plt.plot(history.history['accuracy'], label='Training Accuracy')\n",
        "plt.plot(history.history['val_accuracy'], label='Validation Accuracy')\n",
        "plt.title('Training and Validation Accuracy')\n",
        "plt.xlabel('Epoch')\n",
        "plt.ylabel('Accuracy')\n",
        "plt.legend()\n",
        "plt.grid(True)\n",
        "plt.show()"
      ],
      "metadata": {
        "colab": {
          "base_uri": "https://localhost:8080/",
          "height": 487
        },
        "id": "p-TsaNYHApGI",
        "outputId": "272d3483-b1e9-4d0b-ff8b-01dc19deee20"
      },
      "execution_count": 13,
      "outputs": [
        {
          "output_type": "display_data",
          "data": {
            "text/plain": [
              "<Figure size 1000x500 with 1 Axes>"
            ],
            "image/png": "[encoded data removed]"
          },
          "metadata": {}
        }
      ]
    },
    {
      "cell_type": "code",
      "source": [
        "from tensorflow.keras.preprocessing import image\n",
        "import numpy as np\n",
        "import os\n",
        "from PIL import Image"
      ],
      "metadata": {
        "id": "ndlcpPNsBqes"
      },
      "execution_count": 1,
      "outputs": []
    },
    {
      "cell_type": "code",
      "source": [
        "y_train"
      ],
      "metadata": {
        "colab": {
          "base_uri": "https://localhost:8080/"
        },
        "id": "SSW_-QiRiJMh",
        "outputId": "5b73479c-d176-438c-9dd7-98c2f3e29355"
      },
      "execution_count": 7,
      "outputs": [
        {
          "output_type": "execute_result",
          "data": {
            "text/plain": [
              "array([5, 0, 4, ..., 5, 6, 8], dtype=uint8)"
            ]
          },
          "metadata": {},
          "execution_count": 7
        }
      ]
    },
    {
      "cell_type": "code",
      "source": [
        "base_folder_path = '/content/drive/MyDrive/assignment_1_tme'\n",
        "os.listdir(base_folder_path)"
      ],
      "metadata": {
        "colab": {
          "base_uri": "https://localhost:8080/"
        },
        "id": "j3vgJsbqmXLT",
        "outputId": "95a5e97e-78c7-4b0e-cc60-f221aefbf255"
      },
      "execution_count": 14,
      "outputs": [
        {
          "output_type": "execute_result",
          "data": {
            "text/plain": [
              "['Screen Shot 2023-10-06 at 2.35.31 AM.png',\n",
              " 'Screen Shot 2023-10-06 at 2.35.40 AM.png',\n",
              " 'Screen Shot 2023-10-06 at 2.35.49 AM.png',\n",
              " 'Screen Shot 2023-10-06 at 2.35.58 AM.png',\n",
              " 'Screen Shot 2023-10-06 at 2.36.06 AM.png',\n",
              " 'Screen Shot 2023-10-06 at 2.36.13 AM.png',\n",
              " 'Screen Shot 2023-10-06 at 2.36.20 AM.png',\n",
              " 'Screen Shot 2023-10-06 at 2.36.27 AM.png',\n",
              " 'Screen Shot 2023-10-06 at 2.36.36 AM.png',\n",
              " 'Screen Shot 2023-10-06 at 2.36.45 AM.png',\n",
              " 'Screen Shot 2023-10-06 at 2.39.38 AM.png',\n",
              " 'Screen Shot 2023-10-06 at 2.39.45 AM.png',\n",
              " 'Screen Shot 2023-10-06 at 2.39.54 AM.png',\n",
              " 'Screen Shot 2023-10-06 at 2.40.02 AM.png',\n",
              " 'Screen Shot 2023-10-06 at 2.40.08 AM.png',\n",
              " 'Screen Shot 2023-10-06 at 2.40.15 AM.png',\n",
              " 'Screen Shot 2023-10-06 at 2.40.21 AM.png',\n",
              " 'Screen Shot 2023-10-06 at 2.40.29 AM.png',\n",
              " 'Screen Shot 2023-10-06 at 2.41.12 AM.png',\n",
              " 'Screen Shot 2023-10-06 at 2.41.20 AM.png',\n",
              " 'IMG_6171.heic',\n",
              " 'IMG_6168.heic',\n",
              " 'IMG_6166.heic',\n",
              " 'IMG_6165.heic',\n",
              " 'IMG_6174.heic',\n",
              " 'IMG_6169.heic',\n",
              " 'IMG_6172.heic',\n",
              " 'IMG_6170.heic',\n",
              " 'IMG_6167.heic',\n",
              " 'IMG_6173.heic']"
            ]
          },
          "metadata": {},
          "execution_count": 14
        }
      ]
    },
    {
      "cell_type": "code",
      "source": [
        "# Load custom images from Google Drive\n",
        "custom_images = []\n",
        "custom_labels = []\n",
        "base_folder_path = '/content/drive/MyDrive/assignment_1_tme'\n",
        "for folder_name in os.listdir(base_folder_path):\n",
        "    folder_path = os.path.join(base_folder_path, folder_name)\n",
        "    print(folder_path)\n",
        "    if os.path.isdir(folder_path):\n",
        "        for filename in os.listdir(folder_path):\n",
        "          print('filename', filename)\n",
        "          if filename.endswith('.png') or filename.endswith('.PNG') or filename.endswith('.JPG') or filename.endswith('.heic'):\n",
        "              img_path = os.path.join(folder_path, filename)\n",
        "              img = Image.open(img_path).convert('L')  # convert image to grayscale\n",
        "              img = img.resize((28, 28))  # resize image to match MNIST data\n",
        "              img = img.rotate(-90)\n",
        "              threshold = 100\n",
        "              img = img.point(lambda p: p > threshold and 255)\n",
        "              img_array = np.array(img)\n",
        "              custom_images.append(img_array)\n",
        "              custom_labels.append(int(folder_name))  # use folder name as label\n",
        "\n",
        "# Convert the list of custom images and labels to numpy arrays\n",
        "custom_images = np.array(custom_images)\n",
        "custom_labels = np.array(custom_labels)\n",
        "\n",
        "# Preprocess the custom images\n",
        "custom_images = custom_images / 255.0"
      ],
      "metadata": {
        "colab": {
          "base_uri": "https://localhost:8080/"
        },
        "id": "9MY7deZ6iPUY",
        "outputId": "b2725bd1-1e88-4ce9-c1f8-bfe2d9735263"
      },
      "execution_count": 16,
      "outputs": [
        {
          "output_type": "stream",
          "name": "stdout",
          "text": [
            "/content/drive/MyDrive/assignment_1_tme/0\n",
            "filename Screen Shot 2023-10-06 at 2.35.31 AM.png\n",
            "filename Screen Shot 2023-10-06 at 2.39.38 AM.png\n",
            "filename IMG_6165.png\n",
            "/content/drive/MyDrive/assignment_1_tme/1\n",
            "filename Screen Shot 2023-10-06 at 2.35.40 AM.png\n",
            "filename Screen Shot 2023-10-06 at 2.39.45 AM.png\n",
            "filename IMG_6166.png\n",
            "/content/drive/MyDrive/assignment_1_tme/2\n",
            "filename Screen Shot 2023-10-06 at 2.35.49 AM.png\n",
            "filename Screen Shot 2023-10-06 at 2.39.54 AM.png\n",
            "filename IMG_6167.png\n",
            "/content/drive/MyDrive/assignment_1_tme/3\n",
            "filename Screen Shot 2023-10-06 at 2.35.58 AM.png\n",
            "filename Screen Shot 2023-10-06 at 2.40.02 AM.png\n",
            "filename IMG_6168.png\n",
            "/content/drive/MyDrive/assignment_1_tme/4\n",
            "filename Screen Shot 2023-10-06 at 2.36.06 AM.png\n",
            "filename Screen Shot 2023-10-06 at 2.40.08 AM.png\n",
            "filename IMG_6169.png\n",
            "/content/drive/MyDrive/assignment_1_tme/5\n",
            "filename Screen Shot 2023-10-06 at 2.36.13 AM.png\n",
            "filename Screen Shot 2023-10-06 at 2.40.15 AM.png\n",
            "filename IMG_6170.png\n",
            "/content/drive/MyDrive/assignment_1_tme/7\n",
            "filename Screen Shot 2023-10-06 at 2.36.27 AM.png\n",
            "filename Screen Shot 2023-10-06 at 2.40.29 AM.png\n",
            "filename IMG_6172.png\n",
            "/content/drive/MyDrive/assignment_1_tme/6\n",
            "filename Screen Shot 2023-10-06 at 2.36.20 AM.png\n",
            "filename Screen Shot 2023-10-06 at 2.40.21 AM.png\n",
            "filename IMG_6171.png\n",
            "/content/drive/MyDrive/assignment_1_tme/8\n",
            "filename Screen Shot 2023-10-06 at 2.36.36 AM.png\n",
            "filename Screen Shot 2023-10-06 at 2.41.12 AM.png\n",
            "filename IMG_6173.png\n",
            "/content/drive/MyDrive/assignment_1_tme/9\n",
            "filename Screen Shot 2023-10-06 at 2.36.45 AM.png\n",
            "filename Screen Shot 2023-10-06 at 2.41.20 AM.png\n",
            "filename IMG_6174.png\n"
          ]
        }
      ]
    },
    {
      "cell_type": "code",
      "source": [
        "custom_images"
      ],
      "metadata": {
        "colab": {
          "base_uri": "https://localhost:8080/"
        },
        "id": "9ZWYP8q6iu8p",
        "outputId": "6f5fb6c4-ee2d-4586-bd10-6a83dcb2109d"
      },
      "execution_count": 17,
      "outputs": [
        {
          "output_type": "execute_result",
          "data": {
            "text/plain": [
              "array([[[1., 1., 1., ..., 1., 1., 1.],\n",
              "        [1., 1., 1., ..., 1., 1., 1.],\n",
              "        [1., 1., 1., ..., 1., 1., 1.],\n",
              "        ...,\n",
              "        [1., 1., 1., ..., 1., 1., 1.],\n",
              "        [1., 1., 1., ..., 1., 1., 1.],\n",
              "        [1., 1., 1., ..., 1., 1., 1.]],\n",
              "\n",
              "       [[1., 1., 1., ..., 1., 1., 1.],\n",
              "        [1., 1., 1., ..., 1., 1., 1.],\n",
              "        [1., 1., 1., ..., 1., 1., 1.],\n",
              "        ...,\n",
              "        [1., 1., 1., ..., 1., 1., 1.],\n",
              "        [1., 1., 1., ..., 1., 1., 1.],\n",
              "        [1., 1., 1., ..., 1., 1., 1.]],\n",
              "\n",
              "       [[1., 1., 1., ..., 1., 1., 1.],\n",
              "        [1., 1., 1., ..., 1., 1., 1.],\n",
              "        [1., 1., 1., ..., 1., 1., 1.],\n",
              "        ...,\n",
              "        [1., 1., 1., ..., 1., 1., 1.],\n",
              "        [1., 1., 1., ..., 1., 1., 1.],\n",
              "        [1., 1., 1., ..., 1., 1., 1.]],\n",
              "\n",
              "       ...,\n",
              "\n",
              "       [[1., 1., 1., ..., 1., 1., 1.],\n",
              "        [1., 1., 1., ..., 1., 1., 1.],\n",
              "        [1., 1., 1., ..., 1., 1., 1.],\n",
              "        ...,\n",
              "        [1., 1., 1., ..., 1., 1., 1.],\n",
              "        [1., 1., 1., ..., 1., 1., 1.],\n",
              "        [1., 1., 1., ..., 1., 1., 1.]],\n",
              "\n",
              "       [[1., 1., 1., ..., 1., 1., 1.],\n",
              "        [1., 1., 1., ..., 1., 1., 1.],\n",
              "        [1., 1., 1., ..., 1., 1., 1.],\n",
              "        ...,\n",
              "        [1., 1., 1., ..., 1., 1., 1.],\n",
              "        [1., 1., 1., ..., 1., 1., 1.],\n",
              "        [1., 1., 1., ..., 1., 1., 1.]],\n",
              "\n",
              "       [[1., 1., 1., ..., 1., 1., 1.],\n",
              "        [1., 1., 1., ..., 1., 1., 1.],\n",
              "        [1., 1., 1., ..., 1., 1., 1.],\n",
              "        ...,\n",
              "        [1., 1., 1., ..., 1., 1., 1.],\n",
              "        [1., 1., 1., ..., 1., 1., 1.],\n",
              "        [1., 1., 1., ..., 1., 1., 1.]]])"
            ]
          },
          "metadata": {},
          "execution_count": 17
        }
      ]
    },
    {
      "cell_type": "code",
      "source": [
        "display_image = custom_images[3] * 255\n",
        "\n",
        "# Convert the image data to uint8\n",
        "display_image = display_image.astype(np.uint8)\n",
        "\n",
        "# Create a PIL image\n",
        "img = Image.fromarray(display_image)\n",
        "\n",
        "# Display the image\n",
        "img"
      ],
      "metadata": {
        "colab": {
          "base_uri": "https://localhost:8080/",
          "height": 45
        },
        "id": "lsWlFF0Ei1hX",
        "outputId": "8196a7f1-a5e5-4af1-ccaf-ef39ac5b1f7b"
      },
      "execution_count": 18,
      "outputs": [
        {
          "output_type": "execute_result",
          "data": {
            "text/plain": [
              "<PIL.Image.Image image mode=L size=28x28>"
            ],
            "image/png": "[encoded data removed]"
          },
          "metadata": {},
          "execution_count": 18
        }
      ]
    },
    {
      "cell_type": "code",
      "source": [
        "# Add the custom images and labels to the original MNIST dataset\n",
        "x_train = np.concatenate((x_train, custom_images), axis=0)\n",
        "y_train = np.concatenate((y_train, custom_labels), axis=0)"
      ],
      "metadata": {
        "id": "08EOvIv4i8xt"
      },
      "execution_count": 19,
      "outputs": []
    },
    {
      "cell_type": "code",
      "source": [
        "display_image = x_train[-1] * 255\n",
        "\n",
        "# Convert the image data to uint8\n",
        "display_image = display_image.astype(np.uint8)\n",
        "\n",
        "# Create a PIL image\n",
        "img = Image.fromarray(display_image)\n",
        "img"
      ],
      "metadata": {
        "colab": {
          "base_uri": "https://localhost:8080/",
          "height": 45
        },
        "id": "wTabIz5Nqxo4",
        "outputId": "9bce1d55-2d64-488c-dbd2-bad63706b774"
      },
      "execution_count": 20,
      "outputs": [
        {
          "output_type": "execute_result",
          "data": {
            "text/plain": [
              "<PIL.Image.Image image mode=L size=28x28>"
            ],
            "image/png": "[encoded data removed]"
          },
          "metadata": {},
          "execution_count": 20
        }
      ]
    },
    {
      "cell_type": "code",
      "source": [
        "len(x_train),len(x_test)"
      ],
      "metadata": {
        "colab": {
          "base_uri": "https://localhost:8080/"
        },
        "id": "5Klsbt-_q0wf",
        "outputId": "22624064-bccb-416f-8d89-b03b31b8c9dd"
      },
      "execution_count": 21,
      "outputs": [
        {
          "output_type": "execute_result",
          "data": {
            "text/plain": [
              "(60030, 10000)"
            ]
          },
          "metadata": {},
          "execution_count": 21
        }
      ]
    },
    {
      "cell_type": "code",
      "source": [
        "model = models.Sequential()\n",
        "model.add(layers.Conv2D(32, (3, 3), activation='relu', input_shape=(28, 28, 1)))\n",
        "model.add(layers.MaxPooling2D((2, 2)))\n",
        "model.add(layers.Conv2D(64, (3, 3), activation='relu'))\n",
        "model.add(layers.MaxPooling2D((2, 2)))\n",
        "model.add(layers.Conv2D(64, (3, 3), activation='relu'))\n",
        "model.add(layers.Flatten())\n",
        "model.add(layers.Dense(64, activation='relu'))\n",
        "model.add(layers.Dense(10))"
      ],
      "metadata": {
        "id": "netDBxUHq9km"
      },
      "execution_count": 23,
      "outputs": []
    },
    {
      "cell_type": "code",
      "source": [
        "\n",
        "model.summary()"
      ],
      "metadata": {
        "id": "JV187W6frghA"
      },
      "execution_count": null,
      "outputs": []
    },
    {
      "cell_type": "code",
      "source": [
        "model.compile(optimizer='adam',\n",
        "              loss=tf.keras.losses.SparseCategoricalCrossentropy(from_logits=True),\n",
        "              metrics=['accuracy'])\n",
        "history = model.fit(x_train, y_train, epochs=10,\n",
        "                    validation_data=(x_test, y_test))"
      ],
      "metadata": {
        "id": "q0pRoGKjrnyr"
      },
      "execution_count": null,
      "outputs": []
    },
    {
      "cell_type": "code",
      "source": [
        "plt.plot(history.history['accuracy'], label='accuracy')\n",
        "plt.plot(history.history['val_accuracy'], label = 'val_accuracy')\n",
        "plt.xlabel('Epoch')\n",
        "plt.ylabel('Accuracy')\n",
        "plt.ylim([0.5, 1])\n",
        "plt.legend(loc='lower right')\n",
        "\n",
        "test_loss, test_acc = model.evaluate(x_test,  y_test, verbose=2)"
      ],
      "metadata": {
        "id": "_5cQz7E5rn12"
      },
      "execution_count": null,
      "outputs": []
    },
    {
      "cell_type": "code",
      "source": [
        "print(test_acc)"
      ],
      "metadata": {
        "id": "VWmi23Dkrn45"
      },
      "execution_count": null,
      "outputs": []
    },
    {
      "cell_type": "code",
      "source": [
        "model = models.Sequential()\n",
        "model.add(layers.Conv2D(32, (3, 3), activation='relu', input_shape=(28, 28, 1)))\n",
        "model.add(layers.MaxPooling2D((2, 2)))\n",
        "model.add(layers.Flatten())\n",
        "model.add(layers.Dense(64, activation='relu'))\n",
        "model.add(layers.Dense(10))"
      ],
      "metadata": {
        "id": "xTMSrCvlrn70"
      },
      "execution_count": null,
      "outputs": []
    },
    {
      "cell_type": "code",
      "source": [
        "model.summary()"
      ],
      "metadata": {
        "id": "xRNNdB6yrn-t"
      },
      "execution_count": null,
      "outputs": []
    },
    {
      "cell_type": "code",
      "source": [
        "model.compile(optimizer='adam',\n",
        "              loss=tf.keras.losses.SparseCategoricalCrossentropy(from_logits=True),\n",
        "              metrics=['accuracy'])\n",
        ""
      ],
      "metadata": {
        "id": "G03UNQqcroB0"
      },
      "execution_count": null,
      "outputs": []
    },
    {
      "cell_type": "code",
      "source": [
        "history = model.fit(x_train, y_train, epochs=25,\n",
        "                    validation_data=(x_test, y_test))"
      ],
      "metadata": {
        "id": "tfWwCpX7roEs"
      },
      "execution_count": null,
      "outputs": []
    },
    {
      "cell_type": "code",
      "source": [
        "plt.plot(history.history['accuracy'], label='accuracy')\n",
        "plt.plot(history.history['val_accuracy'], label = 'val_accuracy')\n",
        "plt.xlabel('Epoch')\n",
        "plt.ylabel('Accuracy')\n",
        "plt.ylim([0.5, 1])\n",
        "plt.legend(loc='lower right')\n",
        "\n",
        "test_loss, test_acc = model.evaluate(x_test,  y_test, verbose=2)"
      ],
      "metadata": {
        "id": "Vjn89XD1roHs"
      },
      "execution_count": null,
      "outputs": []
    },
    {
      "cell_type": "code",
      "source": [
        "\n",
        "print(test_acc)"
      ],
      "metadata": {
        "id": "aCo0hAghroLF"
      },
      "execution_count": null,
      "outputs": []
    },
    {
      "cell_type": "code",
      "source": [
        "model = models.Sequential()\n",
        "model.add(layers.Conv2D(32, (3, 3), activation='relu', input_shape=(28, 28, 1)))\n",
        "model.add(layers.MaxPooling2D((2, 2)))\n",
        "model.add(layers.Flatten())\n",
        "model.add(layers.Dense(64, activation='relu'))\n",
        "model.add(layers.Dense(10, activation='softmax'))"
      ],
      "metadata": {
        "id": "p26ogrqGroOQ"
      },
      "execution_count": null,
      "outputs": []
    },
    {
      "cell_type": "code",
      "source": [
        "model.summary()"
      ],
      "metadata": {
        "id": "GvEC08iCroRQ"
      },
      "execution_count": null,
      "outputs": []
    },
    {
      "cell_type": "code",
      "source": [
        "model.compile(optimizer='adam',\n",
        "              loss=tf.keras.losses.SparseCategoricalCrossentropy(from_logits=True),\n",
        "              metrics=['accuracy'])"
      ],
      "metadata": {
        "id": "_OsRwZ7froUJ"
      },
      "execution_count": null,
      "outputs": []
    },
    {
      "cell_type": "code",
      "source": [
        "history = model.fit(x_train, y_train, epochs=10,\n",
        "                    validation_data=(x_test, y_test))\n",
        ""
      ],
      "metadata": {
        "id": "sRwlpn3wroWK"
      },
      "execution_count": null,
      "outputs": []
    },
    {
      "cell_type": "code",
      "source": [
        "plt.plot(history.history['accuracy'], label='accuracy')\n",
        "plt.plot(history.history['val_accuracy'], label = 'val_accuracy')\n",
        "plt.xlabel('Epoch')\n",
        "plt.ylabel('Accuracy')\n",
        "plt.ylim([0.5, 1])\n",
        "plt.legend(loc='lower right')\n",
        "\n",
        "test_loss, test_acc = model.evaluate(x_test,  y_test, verbose=2)"
      ],
      "metadata": {
        "id": "h37_NDFAscEe"
      },
      "execution_count": null,
      "outputs": []
    },
    {
      "cell_type": "code",
      "source": [
        "print(test_acc)"
      ],
      "metadata": {
        "id": "9ykEyUwescI1"
      },
      "execution_count": null,
      "outputs": []
    },
    {
      "cell_type": "code",
      "source": [
        "model = models.Sequential()\n",
        "model.add(layers.Conv2D(32, (3, 3), activation='relu', input_shape=(28, 28, 1)))\n",
        "model.add(layers.MaxPooling2D((2, 2)))\n",
        "model.add(layers.Conv2D(64, (3, 3), activation='relu'))\n",
        "model.add(layers.Flatten())\n",
        "model.add(layers.Dense(64, activation='relu'))\n",
        "model.add(layers.Dense(10))"
      ],
      "metadata": {
        "id": "BjEPDLPxscON"
      },
      "execution_count": null,
      "outputs": []
    },
    {
      "cell_type": "code",
      "source": [
        "model.summary()"
      ],
      "metadata": {
        "id": "VjJqdNIRscSD"
      },
      "execution_count": null,
      "outputs": []
    },
    {
      "cell_type": "code",
      "source": [
        "model.compile(optimizer='adam',\n",
        "              loss=tf.keras.losses.SparseCategoricalCrossentropy(from_logits=True),\n",
        "              metrics=['accuracy'])"
      ],
      "metadata": {
        "id": "ojP0Z6P4scVj"
      },
      "execution_count": null,
      "outputs": []
    },
    {
      "cell_type": "code",
      "source": [
        "history = model.fit(x_train, y_train, epochs=10,\n",
        "                    validation_data=(x_test, y_test))\n",
        ""
      ],
      "metadata": {
        "id": "31vZeTrcscYq"
      },
      "execution_count": null,
      "outputs": []
    },
    {
      "cell_type": "code",
      "source": [
        "plt.plot(history.history['accuracy'], label='accuracy')\n",
        "plt.plot(history.history['val_accuracy'], label = 'val_accuracy')\n",
        "plt.xlabel('Epoch')\n",
        "plt.ylabel('Accuracy')\n",
        "plt.ylim([0.5, 1])\n",
        "plt.legend(loc='lower right')\n",
        "\n",
        "test_loss, test_acc = model.evaluate(x_test,  y_test, verbose=2)"
      ],
      "metadata": {
        "id": "oltlX0CPsccF"
      },
      "execution_count": null,
      "outputs": []
    },
    {
      "cell_type": "code",
      "source": [
        "print(test_acc)"
      ],
      "metadata": {
        "id": "wv0cA0NOscfb"
      },
      "execution_count": null,
      "outputs": []
    },
    {
      "cell_type": "code",
      "source": [
        "custom_test_images = []\n",
        "custom_test_labels = []\n",
        "folder_path = '/content/drive/MyDrive/TME_6015/Assignment_1_Custom_Test_Data'\n",
        "for filename in os.listdir(folder_path):\n",
        "  print('filename : ', filename)\n",
        "  if filename.endswith('.png') or filename.endswith('.PNG') or filename.endswith('.JPG') or filename.endswith('.jpg') or filename.endswith('.JPEG') or filename.endswith('.jpeg'):\n",
        "    img_path = os.path.join(folder_path, filename)\n",
        "    img = Image.open(img_path).convert('L')\n",
        "    img = img.resize((28, 28))\n",
        "    threshold = 100\n",
        "    img = img.point(lambda p: p > threshold and 255)\n",
        "    img_array = np.array(img)\n",
        "    custom_test_images.append(img_array)\n",
        "    custom_test_labels.append(int(filename[0]))\n",
        "\n",
        "# Convert the list of custom images and labels to numpy arrays\n",
        "custom_test_images = np.array(custom_test_images)\n",
        "custom_test_labels = np.array(custom_test_labels)"
      ],
      "metadata": {
        "id": "pJ7w1JbTscx1"
      },
      "execution_count": null,
      "outputs": []
    },
    {
      "cell_type": "code",
      "source": [
        "custom_test_labels, len(custom_test_labels)"
      ],
      "metadata": {
        "id": "mVJn6nKIs8Ds"
      },
      "execution_count": null,
      "outputs": []
    },
    {
      "cell_type": "code",
      "source": [
        "custom_test_pred=model.predict(custom_test_images)"
      ],
      "metadata": {
        "id": "E_AQHk_fs8IP"
      },
      "execution_count": null,
      "outputs": []
    },
    {
      "cell_type": "code",
      "source": [
        "for i in range(len(custom_test_pred)):\n",
        "  print(custom_test_labels[i],np.argmax(custom_test_pred[i]))"
      ],
      "metadata": {
        "id": "h7cT9efzs8MP"
      },
      "execution_count": null,
      "outputs": []
    },
    {
      "cell_type": "code",
      "source": [],
      "metadata": {
        "id": "CSDFv5THs8Pd"
      },
      "execution_count": null,
      "outputs": []
    },
    {
      "cell_type": "code",
      "source": [],
      "metadata": {
        "id": "xqAWuv5ds8Ss"
      },
      "execution_count": null,
      "outputs": []
    },
    {
      "cell_type": "code",
      "source": [],
      "metadata": {
        "id": "OQ4S2lvNs8WA"
      },
      "execution_count": null,
      "outputs": []
    },
    {
      "cell_type": "code",
      "source": [],
      "metadata": {
        "id": "USSkfBnks8Zs"
      },
      "execution_count": null,
      "outputs": []
    }
  ]
}