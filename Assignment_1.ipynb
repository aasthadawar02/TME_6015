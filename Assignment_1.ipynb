{
  "nbformat": 4,
  "nbformat_minor": 0,
  "metadata": {
    "colab": {
      "provenance": [],
      "authorship_tag": "ABX9TyOdelvwbE6uBcIGntKRi6B1",
      "include_colab_link": true
    },
    "kernelspec": {
      "name": "python3",
      "display_name": "Python 3"
    },
    "language_info": {
      "name": "python"
    }
  },
  "cells": [
    {
      "cell_type": "markdown",
      "metadata": {
        "id": "view-in-github",
        "colab_type": "text"
      },
      "source": [
        "<a href=\"https://colab.research.google.com/github/aasthadawar02/TME_6015/blob/main/Assignment_1.ipynb\" target=\"_parent\"><img src=\"https://colab.research.google.com/assets/colab-badge.svg\" alt=\"Open In Colab\"/></a>"
      ]
    },
    {
      "cell_type": "markdown",
      "source": [
        "**Mounting Google Drive**"
      ],
      "metadata": {
        "id": "nKx_G7x5mxDL"
      }
    },
    {
      "cell_type": "code",
      "execution_count": 14,
      "metadata": {
        "colab": {
          "base_uri": "https://localhost:8080/"
        },
        "id": "zHIe8c6n0RMI",
        "outputId": "0ac1e92b-a52e-4bae-ce9f-463871a8e201"
      },
      "outputs": [
        {
          "output_type": "stream",
          "name": "stdout",
          "text": [
            "Drive already mounted at /content/drive; to attempt to forcibly remount, call drive.mount(\"/content/drive\", force_remount=True).\n"
          ]
        }
      ],
      "source": [
        "from google.colab import drive\n",
        "drive.mount('/content/drive')"
      ]
    },
    {
      "cell_type": "markdown",
      "source": [
        "**Importing required libraries**"
      ],
      "metadata": {
        "id": "tBoPwbzwm5Bv"
      }
    },
    {
      "cell_type": "code",
      "source": [
        "import tensorflow as tf\n",
        "from tensorflow.keras.datasets import mnist\n",
        "from tensorflow.keras.preprocessing import image\n",
        "import numpy as np\n",
        "import os\n",
        "from PIL import Image, ImageFilter\n",
        "import matplotlib.pyplot as plt\n",
        "from tensorflow.keras import datasets, layers, models\n",
        "from google.colab import drive\n",
        "from sklearn.metrics import accuracy_score"
      ],
      "metadata": {
        "id": "nl2PCklO0m3R"
      },
      "execution_count": 15,
      "outputs": []
    },
    {
      "cell_type": "markdown",
      "source": [
        "**Loading MNIST dataset**"
      ],
      "metadata": {
        "id": "l-dN_XIWnC-p"
      }
    },
    {
      "cell_type": "code",
      "source": [
        "#Load MNIST Dataset\n",
        "(x_train, y_train), (x_test, y_test) = mnist.load_data()"
      ],
      "metadata": {
        "id": "ae0Uwjv_3Me_"
      },
      "execution_count": 16,
      "outputs": []
    },
    {
      "cell_type": "markdown",
      "source": [
        "**Preprocess MNIST Dataset**"
      ],
      "metadata": {
        "id": "8KZtVMcPoLr3"
      }
    },
    {
      "cell_type": "code",
      "source": [
        "x_train = x_train / 255.0\n",
        "x_test = x_test / 255.0"
      ],
      "metadata": {
        "id": "AmX26MHroCQm"
      },
      "execution_count": 17,
      "outputs": []
    },
    {
      "cell_type": "markdown",
      "source": [
        "**Loading custom dataset**"
      ],
      "metadata": {
        "id": "WMaZMA8mnK4n"
      }
    },
    {
      "cell_type": "code",
      "source": [
        "base_folder_path = '/content/drive/MyDrive/assignment_1_tme'\n",
        "os.listdir(base_folder_path)"
      ],
      "metadata": {
        "colab": {
          "base_uri": "https://localhost:8080/"
        },
        "id": "j3vgJsbqmXLT",
        "outputId": "4fc6257d-ed3d-4bfb-c602-a2c369fff1d7"
      },
      "execution_count": 18,
      "outputs": [
        {
          "output_type": "execute_result",
          "data": {
            "text/plain": [
              "['0', '1', '2', '3', '4', '5', '6', '7', '8', '9']"
            ]
          },
          "metadata": {},
          "execution_count": 18
        }
      ]
    },
    {
      "cell_type": "markdown",
      "source": [
        "**Preprocessing custom dataset**"
      ],
      "metadata": {
        "id": "-qDalNG8nPx8"
      }
    },
    {
      "cell_type": "code",
      "source": [
        "# Load custom images from Google Drive\n",
        "custom_images = []\n",
        "custom_labels = []\n",
        "base_folder_path = '/content/drive/MyDrive/assignment_1_tme'\n",
        "for folder_name in os.listdir(base_folder_path):\n",
        "    folder_path = os.path.join(base_folder_path, folder_name)\n",
        "    print(folder_path)\n",
        "    if os.path.isdir(folder_path):\n",
        "        for filename in os.listdir(folder_path):\n",
        "          print('filename', filename)\n",
        "          if filename.endswith('.png') or filename.endswith('.PNG') or filename.endswith('.JPG') or filename.endswith('.heic'):\n",
        "              img_path = os.path.join(folder_path, filename)\n",
        "              img = Image.open(img_path).convert('L')  # convert image to grayscale\n",
        "              img = img.resize((28, 28))  # resize image to match MNIST data\n",
        "              img = img.rotate(-90)\n",
        "              threshold = 100\n",
        "              img = img.point(lambda p: p > threshold and 255)\n",
        "              img_array = np.array(img)\n",
        "              custom_images.append(img_array)\n",
        "              custom_labels.append(int(folder_name))  # use folder name as label\n",
        "\n",
        "# Convert the list of custom images and labels to numpy arrays\n",
        "custom_images = np.array(custom_images)\n",
        "custom_labels = np.array(custom_labels)\n",
        "\n",
        "# Preprocess the custom images\n",
        "custom_images = custom_images / 255.0"
      ],
      "metadata": {
        "colab": {
          "base_uri": "https://localhost:8080/"
        },
        "id": "9MY7deZ6iPUY",
        "outputId": "07b38be2-1371-4105-a050-484e0c74d4f8"
      },
      "execution_count": 19,
      "outputs": [
        {
          "output_type": "stream",
          "name": "stdout",
          "text": [
            "/content/drive/MyDrive/assignment_1_tme/0\n",
            "filename Screen Shot 2023-10-06 at 2.35.31 AM.png\n",
            "filename Screen Shot 2023-10-06 at 2.39.38 AM.png\n",
            "filename IMG_6165.png\n",
            "/content/drive/MyDrive/assignment_1_tme/1\n",
            "filename Screen Shot 2023-10-06 at 2.35.40 AM.png\n",
            "filename Screen Shot 2023-10-06 at 2.39.45 AM.png\n",
            "filename IMG_6166.png\n",
            "/content/drive/MyDrive/assignment_1_tme/2\n",
            "filename Screen Shot 2023-10-06 at 2.35.49 AM.png\n",
            "filename Screen Shot 2023-10-06 at 2.39.54 AM.png\n",
            "filename IMG_6167.png\n",
            "/content/drive/MyDrive/assignment_1_tme/3\n",
            "filename Screen Shot 2023-10-06 at 2.35.58 AM.png\n",
            "filename Screen Shot 2023-10-06 at 2.40.02 AM.png\n",
            "filename IMG_6168.png\n",
            "/content/drive/MyDrive/assignment_1_tme/4\n",
            "filename Screen Shot 2023-10-06 at 2.36.06 AM.png\n",
            "filename Screen Shot 2023-10-06 at 2.40.08 AM.png\n",
            "filename IMG_6169.png\n",
            "/content/drive/MyDrive/assignment_1_tme/5\n",
            "filename Screen Shot 2023-10-06 at 2.36.13 AM.png\n",
            "filename Screen Shot 2023-10-06 at 2.40.15 AM.png\n",
            "filename IMG_6170.png\n",
            "/content/drive/MyDrive/assignment_1_tme/6\n",
            "filename Screen Shot 2023-10-06 at 2.36.20 AM.png\n",
            "filename Screen Shot 2023-10-06 at 2.40.21 AM.png\n",
            "filename IMG_6171.png\n",
            "/content/drive/MyDrive/assignment_1_tme/7\n",
            "filename Screen Shot 2023-10-06 at 2.36.27 AM.png\n",
            "filename Screen Shot 2023-10-06 at 2.40.29 AM.png\n",
            "filename IMG_6172.png\n",
            "/content/drive/MyDrive/assignment_1_tme/8\n",
            "filename Screen Shot 2023-10-06 at 2.36.36 AM.png\n",
            "filename Screen Shot 2023-10-06 at 2.41.12 AM.png\n",
            "filename IMG_6173.png\n",
            "/content/drive/MyDrive/assignment_1_tme/9\n",
            "filename Screen Shot 2023-10-06 at 2.36.45 AM.png\n",
            "filename Screen Shot 2023-10-06 at 2.41.20 AM.png\n",
            "filename IMG_6174.png\n"
          ]
        }
      ]
    },
    {
      "cell_type": "code",
      "source": [
        "custom_images"
      ],
      "metadata": {
        "colab": {
          "base_uri": "https://localhost:8080/"
        },
        "id": "9ZWYP8q6iu8p",
        "outputId": "90e93d93-3a10-4afb-f044-df630276883d"
      },
      "execution_count": 20,
      "outputs": [
        {
          "output_type": "execute_result",
          "data": {
            "text/plain": [
              "array([[[1., 1., 1., ..., 1., 1., 1.],\n",
              "        [1., 1., 1., ..., 1., 1., 1.],\n",
              "        [1., 1., 1., ..., 1., 1., 1.],\n",
              "        ...,\n",
              "        [1., 1., 1., ..., 1., 1., 1.],\n",
              "        [1., 1., 1., ..., 1., 1., 1.],\n",
              "        [1., 1., 1., ..., 1., 1., 1.]],\n",
              "\n",
              "       [[1., 1., 1., ..., 1., 1., 1.],\n",
              "        [1., 1., 1., ..., 1., 1., 1.],\n",
              "        [1., 1., 1., ..., 1., 1., 1.],\n",
              "        ...,\n",
              "        [1., 1., 1., ..., 1., 1., 1.],\n",
              "        [1., 1., 1., ..., 1., 1., 1.],\n",
              "        [1., 1., 1., ..., 1., 1., 1.]],\n",
              "\n",
              "       [[1., 1., 1., ..., 1., 1., 1.],\n",
              "        [1., 1., 1., ..., 1., 1., 1.],\n",
              "        [1., 1., 1., ..., 1., 1., 1.],\n",
              "        ...,\n",
              "        [1., 1., 1., ..., 1., 1., 1.],\n",
              "        [1., 1., 1., ..., 1., 1., 1.],\n",
              "        [1., 1., 1., ..., 1., 1., 1.]],\n",
              "\n",
              "       ...,\n",
              "\n",
              "       [[1., 1., 1., ..., 1., 1., 1.],\n",
              "        [1., 1., 1., ..., 1., 1., 1.],\n",
              "        [1., 1., 1., ..., 1., 1., 1.],\n",
              "        ...,\n",
              "        [1., 1., 1., ..., 1., 1., 1.],\n",
              "        [1., 1., 1., ..., 1., 1., 1.],\n",
              "        [1., 1., 1., ..., 1., 1., 1.]],\n",
              "\n",
              "       [[1., 1., 1., ..., 1., 1., 1.],\n",
              "        [1., 1., 1., ..., 1., 1., 1.],\n",
              "        [1., 1., 1., ..., 1., 1., 1.],\n",
              "        ...,\n",
              "        [1., 1., 1., ..., 1., 1., 1.],\n",
              "        [1., 1., 1., ..., 1., 1., 1.],\n",
              "        [1., 1., 1., ..., 1., 1., 1.]],\n",
              "\n",
              "       [[1., 1., 1., ..., 1., 1., 1.],\n",
              "        [1., 1., 1., ..., 1., 1., 1.],\n",
              "        [1., 1., 1., ..., 1., 1., 1.],\n",
              "        ...,\n",
              "        [1., 1., 1., ..., 1., 1., 1.],\n",
              "        [1., 1., 1., ..., 1., 1., 1.],\n",
              "        [1., 1., 1., ..., 1., 1., 1.]]])"
            ]
          },
          "metadata": {},
          "execution_count": 20
        }
      ]
    },
    {
      "cell_type": "code",
      "source": [
        "display_image = custom_images[3] * 255\n",
        "\n",
        "# Convert the image data to uint8\n",
        "display_image = display_image.astype(np.uint8)\n",
        "\n",
        "# Create a PIL image\n",
        "img = Image.fromarray(display_image)\n",
        "\n",
        "# Display the image\n",
        "img"
      ],
      "metadata": {
        "colab": {
          "base_uri": "https://localhost:8080/",
          "height": 45
        },
        "id": "lsWlFF0Ei1hX",
        "outputId": "d740d501-1ae9-4ebc-f5c4-18263658de9c"
      },
      "execution_count": 21,
      "outputs": [
        {
          "output_type": "execute_result",
          "data": {
            "text/plain": [
              "<PIL.Image.Image image mode=L size=28x28>"
            ],
            "image/png": "[encoded data removed]"
          },
          "metadata": {},
          "execution_count": 21
        }
      ]
    },
    {
      "cell_type": "markdown",
      "source": [
        "**Merging MNIST and custom datasets**"
      ],
      "metadata": {
        "id": "AYkW3Rr2ncrW"
      }
    },
    {
      "cell_type": "code",
      "source": [
        "# Add the custom images and labels to the original MNIST dataset\n",
        "x_train = np.concatenate((x_train, custom_images), axis=0)\n",
        "y_train = np.concatenate((y_train, custom_labels), axis=0)"
      ],
      "metadata": {
        "id": "08EOvIv4i8xt"
      },
      "execution_count": 22,
      "outputs": []
    },
    {
      "cell_type": "code",
      "source": [
        "display_image = x_train[-1] * 255\n",
        "\n",
        "# Convert the image data to uint8\n",
        "display_image = display_image.astype(np.uint8)\n",
        "\n",
        "# Create a PIL image\n",
        "img = Image.fromarray(display_image)\n",
        "img"
      ],
      "metadata": {
        "colab": {
          "base_uri": "https://localhost:8080/",
          "height": 45
        },
        "id": "wTabIz5Nqxo4",
        "outputId": "0d08e747-ffba-4e62-e45c-ee0a2388cac0"
      },
      "execution_count": 23,
      "outputs": [
        {
          "output_type": "execute_result",
          "data": {
            "text/plain": [
              "<PIL.Image.Image image mode=L size=28x28>"
            ],
            "image/png": "[encoded data removed]"
          },
          "metadata": {},
          "execution_count": 23
        }
      ]
    },
    {
      "cell_type": "code",
      "source": [
        "len(x_train),len(x_test)"
      ],
      "metadata": {
        "colab": {
          "base_uri": "https://localhost:8080/"
        },
        "id": "5Klsbt-_q0wf",
        "outputId": "ad8150b6-8bd0-4e23-fa22-30b8af2ad2dc"
      },
      "execution_count": 24,
      "outputs": [
        {
          "output_type": "execute_result",
          "data": {
            "text/plain": [
              "(60030, 10000)"
            ]
          },
          "metadata": {},
          "execution_count": 24
        }
      ]
    },
    {
      "cell_type": "markdown",
      "source": [
        "**Model Creation**"
      ],
      "metadata": {
        "id": "RgSFOvkepHUq"
      }
    },
    {
      "cell_type": "code",
      "source": [
        "model = models.Sequential()\n",
        "model.add(layers.Conv2D(32, (3, 3), activation='relu', input_shape=(28, 28, 1)))\n",
        "model.add(layers.MaxPooling2D((2, 2)))\n",
        "model.add(layers.Conv2D(64, (3, 3), activation='relu'))\n",
        "model.add(layers.MaxPooling2D((2, 2)))\n",
        "model.add(layers.Conv2D(64, (3, 3), activation='relu'))\n",
        "model.add(layers.Flatten())\n",
        "model.add(layers.Dense(64, activation='relu'))\n",
        "model.add(layers.Dense(10))"
      ],
      "metadata": {
        "id": "netDBxUHq9km"
      },
      "execution_count": 25,
      "outputs": []
    },
    {
      "cell_type": "code",
      "source": [
        "\n",
        "model.summary()"
      ],
      "metadata": {
        "id": "JV187W6frghA",
        "outputId": "dd7c6795-5256-49c7-aa1e-4060bd1ce0f7",
        "colab": {
          "base_uri": "https://localhost:8080/"
        }
      },
      "execution_count": 27,
      "outputs": [
        {
          "output_type": "stream",
          "name": "stdout",
          "text": [
            "Model: \"sequential_1\"\n",
            "_________________________________________________________________\n",
            " Layer (type)                Output Shape              Param #   \n",
            "=================================================================\n",
            " conv2d_3 (Conv2D)           (None, 26, 26, 32)        320       \n",
            "                                                                 \n",
            " max_pooling2d_2 (MaxPoolin  (None, 13, 13, 32)        0         \n",
            " g2D)                                                            \n",
            "                                                                 \n",
            " conv2d_4 (Conv2D)           (None, 11, 11, 64)        18496     \n",
            "                                                                 \n",
            " max_pooling2d_3 (MaxPoolin  (None, 5, 5, 64)          0         \n",
            " g2D)                                                            \n",
            "                                                                 \n",
            " conv2d_5 (Conv2D)           (None, 3, 3, 64)          36928     \n",
            "                                                                 \n",
            " flatten_1 (Flatten)         (None, 576)               0         \n",
            "                                                                 \n",
            " dense_2 (Dense)             (None, 64)                36928     \n",
            "                                                                 \n",
            " dense_3 (Dense)             (None, 10)                650       \n",
            "                                                                 \n",
            "=================================================================\n",
            "Total params: 93322 (364.54 KB)\n",
            "Trainable params: 93322 (364.54 KB)\n",
            "Non-trainable params: 0 (0.00 Byte)\n",
            "_________________________________________________________________\n"
          ]
        }
      ]
    },
    {
      "cell_type": "markdown",
      "source": [
        "**Compile and train model**"
      ],
      "metadata": {
        "id": "r4PR4UOUpOUz"
      }
    },
    {
      "cell_type": "code",
      "source": [
        "model.compile(optimizer='adam',\n",
        "              loss=tf.keras.losses.SparseCategoricalCrossentropy(from_logits=True),\n",
        "              metrics=['accuracy'])\n",
        "history = model.fit(x_train, y_train, epochs=10,\n",
        "                    validation_data=(x_test, y_test))"
      ],
      "metadata": {
        "id": "q0pRoGKjrnyr",
        "outputId": "8c0f03d6-6569-451f-d815-a6d871e2b120",
        "colab": {
          "base_uri": "https://localhost:8080/"
        }
      },
      "execution_count": 28,
      "outputs": [
        {
          "metadata": {
            "tags": null
          },
          "name": "stdout",
          "output_type": "stream",
          "text": [
            "Epoch 1/10\n",
            "1876/1876 [==============================] - 72s 38ms/step - loss: 0.1450 - accuracy: 0.9549 - val_loss: 0.0490 - val_accuracy: 0.9840\n",
            "Epoch 2/10\n",
            "1876/1876 [==============================] - 76s 41ms/step - loss: 0.0470 - accuracy: 0.9856 - val_loss: 0.0347 - val_accuracy: 0.9887\n",
            "Epoch 3/10\n",
            "1876/1876 [==============================] - 82s 44ms/step - loss: 0.0340 - accuracy: 0.9895 - val_loss: 0.0286 - val_accuracy: 0.9900\n",
            "Epoch 4/10\n",
            "1876/1876 [==============================] - 73s 39ms/step - loss: 0.0261 - accuracy: 0.9918 - val_loss: 0.0326 - val_accuracy: 0.9902\n",
            "Epoch 5/10\n",
            "1876/1876 [==============================] - 69s 37ms/step - loss: 0.0207 - accuracy: 0.9933 - val_loss: 0.0350 - val_accuracy: 0.9904\n",
            "Epoch 6/10\n",
            "1876/1876 [==============================] - 66s 35ms/step - loss: 0.0165 - accuracy: 0.9951 - val_loss: 0.0292 - val_accuracy: 0.9914\n",
            "Epoch 7/10\n",
            "1876/1876 [==============================] - 65s 34ms/step - loss: 0.0139 - accuracy: 0.9957 - val_loss: 0.0360 - val_accuracy: 0.9908\n",
            "Epoch 8/10\n",
            "1876/1876 [==============================] - 66s 35ms/step - loss: 0.0117 - accuracy: 0.9963 - val_loss: 0.0286 - val_accuracy: 0.9924\n",
            "Epoch 9/10\n",
            "1876/1876 [==============================] - 64s 34ms/step - loss: 0.0099 - accuracy: 0.9965 - val_loss: 0.0322 - val_accuracy: 0.9912\n",
            "Epoch 10/10\n",
            "1876/1876 [==============================] - 61s 33ms/step - loss: 0.0100 - accuracy: 0.9967 - val_loss: 0.0605 - val_accuracy: 0.9869\n"
          ]
        }
      ]
    },
    {
      "cell_type": "markdown",
      "source": [
        "**Plotting accuracy and validation accuracy scores**"
      ],
      "metadata": {
        "id": "10LHtHDgpUsP"
      }
    },
    {
      "cell_type": "code",
      "source": [
        "plt.plot(history.history['accuracy'], label='accuracy')\n",
        "plt.plot(history.history['val_accuracy'], label = 'val_accuracy')\n",
        "plt.xlabel('Epoch')\n",
        "plt.ylabel('Accuracy')\n",
        "plt.ylim([0.5, 1])\n",
        "plt.legend(loc='lower right')\n",
        "\n",
        "test_loss, test_acc = model.evaluate(x_test,  y_test, verbose=2)"
      ],
      "metadata": {
        "id": "_5cQz7E5rn12",
        "outputId": "57a19db0-7718-4900-a6a1-ff740e4e50ed",
        "colab": {
          "base_uri": "https://localhost:8080/",
          "height": 473
        }
      },
      "execution_count": 29,
      "outputs": [
        {
          "output_type": "stream",
          "name": "stdout",
          "text": [
            "313/313 - 3s - loss: 0.0605 - accuracy: 0.9869 - 3s/epoch - 8ms/step\n"
          ]
        },
        {
          "output_type": "display_data",
          "data": {
            "text/plain": [
              "<Figure size 640x480 with 1 Axes>"
            ],
            "image/png": "[encoded data removed]"
          },
          "metadata": {}
        }
      ]
    },
    {
      "cell_type": "code",
      "source": [
        "print(test_acc)"
      ],
      "metadata": {
        "id": "VWmi23Dkrn45",
        "outputId": "7bdb2740-957f-495d-f51a-82f04329a97a",
        "colab": {
          "base_uri": "https://localhost:8080/"
        }
      },
      "execution_count": 30,
      "outputs": [
        {
          "output_type": "stream",
          "name": "stdout",
          "text": [
            "0.9868999719619751\n"
          ]
        }
      ]
    },
    {
      "cell_type": "markdown",
      "source": [
        "**Model Overfitting**"
      ],
      "metadata": {
        "id": "-r0Bkzf8peNr"
      }
    },
    {
      "cell_type": "code",
      "source": [
        "model = models.Sequential()\n",
        "model.add(layers.Conv2D(32, (3, 3), activation='relu', input_shape=(28, 28, 1)))\n",
        "model.add(layers.MaxPooling2D((2, 2)))\n",
        "model.add(layers.Flatten())\n",
        "model.add(layers.Dense(128, activation='relu'))\n",
        "model.add(layers.Dense(10))"
      ],
      "metadata": {
        "id": "xTMSrCvlrn70"
      },
      "execution_count": 31,
      "outputs": []
    },
    {
      "cell_type": "code",
      "source": [
        "model.summary()"
      ],
      "metadata": {
        "id": "xRNNdB6yrn-t",
        "outputId": "27f61a35-3145-4b39-b6b3-b57a460ea075",
        "colab": {
          "base_uri": "https://localhost:8080/"
        }
      },
      "execution_count": 32,
      "outputs": [
        {
          "output_type": "stream",
          "name": "stdout",
          "text": [
            "Model: \"sequential_2\"\n",
            "_________________________________________________________________\n",
            " Layer (type)                Output Shape              Param #   \n",
            "=================================================================\n",
            " conv2d_6 (Conv2D)           (None, 26, 26, 32)        320       \n",
            "                                                                 \n",
            " max_pooling2d_4 (MaxPoolin  (None, 13, 13, 32)        0         \n",
            " g2D)                                                            \n",
            "                                                                 \n",
            " flatten_2 (Flatten)         (None, 5408)              0         \n",
            "                                                                 \n",
            " dense_4 (Dense)             (None, 128)               692352    \n",
            "                                                                 \n",
            " dense_5 (Dense)             (None, 10)                1290      \n",
            "                                                                 \n",
            "=================================================================\n",
            "Total params: 693962 (2.65 MB)\n",
            "Trainable params: 693962 (2.65 MB)\n",
            "Non-trainable params: 0 (0.00 Byte)\n",
            "_________________________________________________________________\n"
          ]
        }
      ]
    },
    {
      "cell_type": "code",
      "source": [
        "model.compile(optimizer='adam',\n",
        "              loss=tf.keras.losses.SparseCategoricalCrossentropy(from_logits=True),\n",
        "              metrics=['accuracy'])\n"
      ],
      "metadata": {
        "id": "G03UNQqcroB0"
      },
      "execution_count": 33,
      "outputs": []
    },
    {
      "cell_type": "code",
      "source": [
        "history = model.fit(x_train, y_train, epochs=25,\n",
        "                    validation_data=(x_test, y_test))"
      ],
      "metadata": {
        "id": "tfWwCpX7roEs",
        "outputId": "5b4eeef6-9827-4cbe-ab8e-68590e3a33c2",
        "colab": {
          "base_uri": "https://localhost:8080/"
        }
      },
      "execution_count": 34,
      "outputs": [
        {
          "output_type": "stream",
          "name": "stdout",
          "text": [
            "Epoch 1/25\n",
            "1876/1876 [==============================] - 46s 24ms/step - loss: 0.1503 - accuracy: 0.9555 - val_loss: 0.0568 - val_accuracy: 0.9808\n",
            "Epoch 2/25\n",
            "1876/1876 [==============================] - 51s 27ms/step - loss: 0.0527 - accuracy: 0.9842 - val_loss: 0.0566 - val_accuracy: 0.9805\n",
            "Epoch 3/25\n",
            "1876/1876 [==============================] - 67s 36ms/step - loss: 0.0348 - accuracy: 0.9890 - val_loss: 0.0446 - val_accuracy: 0.9852\n",
            "Epoch 4/25\n",
            "1876/1876 [==============================] - 47s 25ms/step - loss: 0.0224 - accuracy: 0.9933 - val_loss: 0.0461 - val_accuracy: 0.9855\n",
            "Epoch 5/25\n",
            "1876/1876 [==============================] - 45s 24ms/step - loss: 0.0153 - accuracy: 0.9949 - val_loss: 0.0506 - val_accuracy: 0.9851\n",
            "Epoch 6/25\n",
            "1876/1876 [==============================] - 61s 33ms/step - loss: 0.0116 - accuracy: 0.9961 - val_loss: 0.0461 - val_accuracy: 0.9865\n",
            "Epoch 7/25\n",
            "1876/1876 [==============================] - 60s 32ms/step - loss: 0.0077 - accuracy: 0.9975 - val_loss: 0.0570 - val_accuracy: 0.9846\n",
            "Epoch 8/25\n",
            "1876/1876 [==============================] - 53s 28ms/step - loss: 0.0080 - accuracy: 0.9974 - val_loss: 0.0569 - val_accuracy: 0.9849\n",
            "Epoch 9/25\n",
            "1876/1876 [==============================] - 56s 30ms/step - loss: 0.0058 - accuracy: 0.9980 - val_loss: 0.0581 - val_accuracy: 0.9862\n",
            "Epoch 10/25\n",
            "1876/1876 [==============================] - 45s 24ms/step - loss: 0.0044 - accuracy: 0.9986 - val_loss: 0.0586 - val_accuracy: 0.9861\n",
            "Epoch 11/25\n",
            "1876/1876 [==============================] - 45s 24ms/step - loss: 0.0051 - accuracy: 0.9982 - val_loss: 0.0527 - val_accuracy: 0.9885\n",
            "Epoch 12/25\n",
            "1876/1876 [==============================] - 47s 25ms/step - loss: 0.0032 - accuracy: 0.9989 - val_loss: 0.0596 - val_accuracy: 0.9867\n",
            "Epoch 13/25\n",
            "1876/1876 [==============================] - 46s 25ms/step - loss: 0.0031 - accuracy: 0.9991 - val_loss: 0.0666 - val_accuracy: 0.9872\n",
            "Epoch 14/25\n",
            "1876/1876 [==============================] - 44s 24ms/step - loss: 0.0036 - accuracy: 0.9988 - val_loss: 0.0611 - val_accuracy: 0.9868\n",
            "Epoch 15/25\n",
            "1876/1876 [==============================] - 44s 24ms/step - loss: 0.0024 - accuracy: 0.9991 - val_loss: 0.0609 - val_accuracy: 0.9876\n",
            "Epoch 16/25\n",
            "1876/1876 [==============================] - 46s 25ms/step - loss: 0.0030 - accuracy: 0.9990 - val_loss: 0.0643 - val_accuracy: 0.9869\n",
            "Epoch 17/25\n",
            "1876/1876 [==============================] - 46s 24ms/step - loss: 0.0039 - accuracy: 0.9989 - val_loss: 0.0647 - val_accuracy: 0.9879\n",
            "Epoch 18/25\n",
            "1876/1876 [==============================] - 46s 24ms/step - loss: 0.0011 - accuracy: 0.9996 - val_loss: 0.0646 - val_accuracy: 0.9876\n",
            "Epoch 19/25\n",
            "1876/1876 [==============================] - 44s 23ms/step - loss: 0.0026 - accuracy: 0.9991 - val_loss: 0.0889 - val_accuracy: 0.9855\n",
            "Epoch 20/25\n",
            "1876/1876 [==============================] - 44s 23ms/step - loss: 0.0018 - accuracy: 0.9994 - val_loss: 0.0776 - val_accuracy: 0.9871\n",
            "Epoch 21/25\n",
            "1876/1876 [==============================] - 46s 25ms/step - loss: 0.0026 - accuracy: 0.9991 - val_loss: 0.0908 - val_accuracy: 0.9849\n",
            "Epoch 22/25\n",
            "1876/1876 [==============================] - 47s 25ms/step - loss: 0.0016 - accuracy: 0.9996 - val_loss: 0.0664 - val_accuracy: 0.9881\n",
            "Epoch 23/25\n",
            "1876/1876 [==============================] - 45s 24ms/step - loss: 0.0013 - accuracy: 0.9996 - val_loss: 0.0819 - val_accuracy: 0.9871\n",
            "Epoch 24/25\n",
            "1876/1876 [==============================] - 45s 24ms/step - loss: 0.0034 - accuracy: 0.9991 - val_loss: 0.0719 - val_accuracy: 0.9872\n",
            "Epoch 25/25\n",
            "1876/1876 [==============================] - 44s 23ms/step - loss: 0.0013 - accuracy: 0.9994 - val_loss: 0.0991 - val_accuracy: 0.9842\n"
          ]
        }
      ]
    },
    {
      "cell_type": "markdown",
      "source": [
        "**At 11th Epoch, the validation accuracy reaches highest value of 98.85%. Later on, the value decreases. Therefore, the model overfits at 11 Epoch**"
      ],
      "metadata": {
        "id": "oOflb48DznmV"
      }
    },
    {
      "cell_type": "code",
      "source": [
        "plt.plot(history.history['accuracy'], label='accuracy')\n",
        "plt.plot(history.history['val_accuracy'], label = 'val_accuracy')\n",
        "plt.xlabel('Epoch')\n",
        "plt.ylabel('Accuracy')\n",
        "plt.ylim([0.5, 1])\n",
        "plt.legend(loc='lower right')\n",
        "\n",
        "test_loss, test_acc = model.evaluate(x_test,  y_test, verbose=2)"
      ],
      "metadata": {
        "id": "Vjn89XD1roHs",
        "outputId": "33ea928a-0315-4edc-c2cb-a79fdd822e59",
        "colab": {
          "base_uri": "https://localhost:8080/",
          "height": 473
        }
      },
      "execution_count": 35,
      "outputs": [
        {
          "output_type": "stream",
          "name": "stdout",
          "text": [
            "313/313 - 2s - loss: 0.0991 - accuracy: 0.9842 - 2s/epoch - 6ms/step\n"
          ]
        },
        {
          "output_type": "display_data",
          "data": {
            "text/plain": [
              "<Figure size 640x480 with 1 Axes>"
            ],
            "image/png": "[encoded data removed]"
          },
          "metadata": {}
        }
      ]
    },
    {
      "cell_type": "code",
      "source": [
        "\n",
        "print(test_acc)"
      ],
      "metadata": {
        "id": "aCo0hAghroLF",
        "outputId": "2beb11de-5426-4fe1-8fce-49c917907966",
        "colab": {
          "base_uri": "https://localhost:8080/"
        }
      },
      "execution_count": 36,
      "outputs": [
        {
          "output_type": "stream",
          "name": "stdout",
          "text": [
            "0.9842000007629395\n"
          ]
        }
      ]
    },
    {
      "cell_type": "markdown",
      "source": [
        "**experiment with 3 different configuration**"
      ],
      "metadata": {
        "id": "7fG5CUTyuqJa"
      }
    },
    {
      "cell_type": "markdown",
      "source": [
        "**Configuration 1**\n",
        "\n",
        "\n",
        "\n"
      ],
      "metadata": {
        "id": "jwxFSVyZu0wq"
      }
    },
    {
      "cell_type": "code",
      "source": [
        "model = models.Sequential()\n",
        "model.add(layers.Conv2D(32, (3, 3), activation='relu', input_shape=(28, 28, 1)))\n",
        "model.add(layers.MaxPooling2D((2, 2)))\n",
        "model.add(layers.Flatten())\n",
        "model.add(layers.Dense(128, activation='relu'))\n",
        "model.add(layers.Dense(10, activation='softmax'))"
      ],
      "metadata": {
        "id": "p26ogrqGroOQ"
      },
      "execution_count": 37,
      "outputs": []
    },
    {
      "cell_type": "code",
      "source": [
        "model.summary()"
      ],
      "metadata": {
        "id": "GvEC08iCroRQ",
        "outputId": "b7c315ee-5650-46f2-de37-f16c919db62e",
        "colab": {
          "base_uri": "https://localhost:8080/"
        }
      },
      "execution_count": 38,
      "outputs": [
        {
          "output_type": "stream",
          "name": "stdout",
          "text": [
            "Model: \"sequential_3\"\n",
            "_________________________________________________________________\n",
            " Layer (type)                Output Shape              Param #   \n",
            "=================================================================\n",
            " conv2d_7 (Conv2D)           (None, 26, 26, 32)        320       \n",
            "                                                                 \n",
            " max_pooling2d_5 (MaxPoolin  (None, 13, 13, 32)        0         \n",
            " g2D)                                                            \n",
            "                                                                 \n",
            " flatten_3 (Flatten)         (None, 5408)              0         \n",
            "                                                                 \n",
            " dense_6 (Dense)             (None, 128)               692352    \n",
            "                                                                 \n",
            " dense_7 (Dense)             (None, 10)                1290      \n",
            "                                                                 \n",
            "=================================================================\n",
            "Total params: 693962 (2.65 MB)\n",
            "Trainable params: 693962 (2.65 MB)\n",
            "Non-trainable params: 0 (0.00 Byte)\n",
            "_________________________________________________________________\n"
          ]
        }
      ]
    },
    {
      "cell_type": "code",
      "source": [
        "model.compile(optimizer='adam',\n",
        "              loss=tf.keras.losses.SparseCategoricalCrossentropy(from_logits=True),\n",
        "              metrics=['accuracy'])"
      ],
      "metadata": {
        "id": "_OsRwZ7froUJ"
      },
      "execution_count": 39,
      "outputs": []
    },
    {
      "cell_type": "code",
      "source": [
        "history = model.fit(x_train, y_train, epochs=10,\n",
        "                    validation_data=(x_test, y_test))\n"
      ],
      "metadata": {
        "id": "sRwlpn3wroWK",
        "outputId": "6633d570-9f18-4b12-9c7c-a9a1fc3faa09",
        "colab": {
          "base_uri": "https://localhost:8080/"
        }
      },
      "execution_count": 40,
      "outputs": [
        {
          "output_type": "stream",
          "name": "stdout",
          "text": [
            "Epoch 1/10\n"
          ]
        },
        {
          "output_type": "stream",
          "name": "stderr",
          "text": [
            "/usr/local/lib/python3.10/dist-packages/keras/src/backend.py:5714: UserWarning: \"`sparse_categorical_crossentropy` received `from_logits=True`, but the `output` argument was produced by a Softmax activation and thus does not represent logits. Was this intended?\n",
            "  output, from_logits = _get_logits(\n"
          ]
        },
        {
          "output_type": "stream",
          "name": "stdout",
          "text": [
            "1876/1876 [==============================] - 48s 25ms/step - loss: 0.1452 - accuracy: 0.9564 - val_loss: 0.0602 - val_accuracy: 0.9807\n",
            "Epoch 2/10\n",
            "1876/1876 [==============================] - 47s 25ms/step - loss: 0.0497 - accuracy: 0.9849 - val_loss: 0.0436 - val_accuracy: 0.9850\n",
            "Epoch 3/10\n",
            "1876/1876 [==============================] - 44s 24ms/step - loss: 0.0304 - accuracy: 0.9905 - val_loss: 0.0513 - val_accuracy: 0.9839\n",
            "Epoch 4/10\n",
            "1876/1876 [==============================] - 44s 23ms/step - loss: 0.0207 - accuracy: 0.9936 - val_loss: 0.0485 - val_accuracy: 0.9856\n",
            "Epoch 5/10\n",
            "1876/1876 [==============================] - 45s 24ms/step - loss: 0.0141 - accuracy: 0.9953 - val_loss: 0.0477 - val_accuracy: 0.9858\n",
            "Epoch 6/10\n",
            "1876/1876 [==============================] - 44s 24ms/step - loss: 0.0093 - accuracy: 0.9971 - val_loss: 0.0467 - val_accuracy: 0.9856\n",
            "Epoch 7/10\n",
            "1876/1876 [==============================] - 45s 24ms/step - loss: 0.0082 - accuracy: 0.9972 - val_loss: 0.0492 - val_accuracy: 0.9881\n",
            "Epoch 8/10\n",
            "1876/1876 [==============================] - 44s 24ms/step - loss: 0.0060 - accuracy: 0.9981 - val_loss: 0.0500 - val_accuracy: 0.9875\n",
            "Epoch 9/10\n",
            "1876/1876 [==============================] - 44s 24ms/step - loss: 0.0052 - accuracy: 0.9984 - val_loss: 0.0546 - val_accuracy: 0.9876\n",
            "Epoch 10/10\n",
            "1876/1876 [==============================] - 44s 24ms/step - loss: 0.0042 - accuracy: 0.9984 - val_loss: 0.0634 - val_accuracy: 0.9858\n"
          ]
        }
      ]
    },
    {
      "cell_type": "code",
      "source": [
        "plt.plot(history.history['accuracy'], label='accuracy')\n",
        "plt.plot(history.history['val_accuracy'], label = 'val_accuracy')\n",
        "plt.xlabel('Epoch')\n",
        "plt.ylabel('Accuracy')\n",
        "plt.ylim([0.5, 1])\n",
        "plt.legend(loc='lower right')\n",
        "\n",
        "test_loss, test_acc = model.evaluate(x_test,  y_test, verbose=2)"
      ],
      "metadata": {
        "id": "h37_NDFAscEe",
        "outputId": "3c2b455c-7502-4b02-b787-4d667ea0947b",
        "colab": {
          "base_uri": "https://localhost:8080/",
          "height": 473
        }
      },
      "execution_count": 41,
      "outputs": [
        {
          "output_type": "stream",
          "name": "stdout",
          "text": [
            "313/313 - 2s - loss: 0.0634 - accuracy: 0.9858 - 2s/epoch - 6ms/step\n"
          ]
        },
        {
          "output_type": "display_data",
          "data": {
            "text/plain": [
              "<Figure size 640x480 with 1 Axes>"
            ],
            "image/png": "[encoded data removed]"
          },
          "metadata": {}
        }
      ]
    },
    {
      "cell_type": "code",
      "source": [
        "print(test_acc)"
      ],
      "metadata": {
        "id": "9ykEyUwescI1",
        "outputId": "391c455f-6bbf-4c79-d74c-8825331ff21b",
        "colab": {
          "base_uri": "https://localhost:8080/"
        }
      },
      "execution_count": 42,
      "outputs": [
        {
          "output_type": "stream",
          "name": "stdout",
          "text": [
            "0.98580002784729\n"
          ]
        }
      ]
    },
    {
      "cell_type": "markdown",
      "source": [
        "**Configuration 2**"
      ],
      "metadata": {
        "id": "vH_19-lPu_iI"
      }
    },
    {
      "cell_type": "code",
      "source": [
        "model = models.Sequential()\n",
        "model.add(layers.Conv2D(32, (3, 3), activation='relu', input_shape=(28, 28, 1)))\n",
        "model.add(layers.MaxPooling2D((2, 2)))\n",
        "model.add(layers.Conv2D(64, (3, 3), activation='relu'))\n",
        "model.add(layers.Flatten())\n",
        "model.add(layers.Dense(128, activation='relu'))\n",
        "model.add(layers.Dense(10))"
      ],
      "metadata": {
        "id": "BjEPDLPxscON"
      },
      "execution_count": 43,
      "outputs": []
    },
    {
      "cell_type": "code",
      "source": [
        "model.summary()"
      ],
      "metadata": {
        "id": "VjJqdNIRscSD",
        "outputId": "104c0897-dca5-42ef-e620-27a8a6ae4859",
        "colab": {
          "base_uri": "https://localhost:8080/"
        }
      },
      "execution_count": 44,
      "outputs": [
        {
          "output_type": "stream",
          "name": "stdout",
          "text": [
            "Model: \"sequential_4\"\n",
            "_________________________________________________________________\n",
            " Layer (type)                Output Shape              Param #   \n",
            "=================================================================\n",
            " conv2d_8 (Conv2D)           (None, 26, 26, 32)        320       \n",
            "                                                                 \n",
            " max_pooling2d_6 (MaxPoolin  (None, 13, 13, 32)        0         \n",
            " g2D)                                                            \n",
            "                                                                 \n",
            " conv2d_9 (Conv2D)           (None, 11, 11, 64)        18496     \n",
            "                                                                 \n",
            " flatten_4 (Flatten)         (None, 7744)              0         \n",
            "                                                                 \n",
            " dense_8 (Dense)             (None, 128)               991360    \n",
            "                                                                 \n",
            " dense_9 (Dense)             (None, 10)                1290      \n",
            "                                                                 \n",
            "=================================================================\n",
            "Total params: 1011466 (3.86 MB)\n",
            "Trainable params: 1011466 (3.86 MB)\n",
            "Non-trainable params: 0 (0.00 Byte)\n",
            "_________________________________________________________________\n"
          ]
        }
      ]
    },
    {
      "cell_type": "code",
      "source": [
        "model.compile(optimizer='adam',\n",
        "              loss=tf.keras.losses.SparseCategoricalCrossentropy(from_logits=True),\n",
        "              metrics=['accuracy'])"
      ],
      "metadata": {
        "id": "ojP0Z6P4scVj"
      },
      "execution_count": 45,
      "outputs": []
    },
    {
      "cell_type": "code",
      "source": [
        "history = model.fit(x_train, y_train, epochs=10,\n",
        "                    validation_data=(x_test, y_test))\n"
      ],
      "metadata": {
        "id": "31vZeTrcscYq",
        "outputId": "15ad1908-766d-40f6-e8a5-4e0e68e5f54a",
        "colab": {
          "base_uri": "https://localhost:8080/"
        }
      },
      "execution_count": 46,
      "outputs": [
        {
          "output_type": "stream",
          "name": "stdout",
          "text": [
            "Epoch 1/10\n",
            "1876/1876 [==============================] - 83s 43ms/step - loss: 0.1161 - accuracy: 0.9646 - val_loss: 0.0543 - val_accuracy: 0.9817\n",
            "Epoch 2/10\n",
            "1876/1876 [==============================] - 85s 45ms/step - loss: 0.0389 - accuracy: 0.9882 - val_loss: 0.0374 - val_accuracy: 0.9873\n",
            "Epoch 3/10\n",
            "1876/1876 [==============================] - 83s 44ms/step - loss: 0.0244 - accuracy: 0.9923 - val_loss: 0.0325 - val_accuracy: 0.9889\n",
            "Epoch 4/10\n",
            "1876/1876 [==============================] - 82s 44ms/step - loss: 0.0177 - accuracy: 0.9943 - val_loss: 0.0337 - val_accuracy: 0.9892\n",
            "Epoch 5/10\n",
            "1876/1876 [==============================] - 82s 44ms/step - loss: 0.0127 - accuracy: 0.9958 - val_loss: 0.0442 - val_accuracy: 0.9872\n",
            "Epoch 6/10\n",
            "1876/1876 [==============================] - 82s 44ms/step - loss: 0.0092 - accuracy: 0.9969 - val_loss: 0.0417 - val_accuracy: 0.9883\n",
            "Epoch 7/10\n",
            "1876/1876 [==============================] - 79s 42ms/step - loss: 0.0074 - accuracy: 0.9975 - val_loss: 0.0392 - val_accuracy: 0.9908\n",
            "Epoch 8/10\n",
            "1876/1876 [==============================] - 82s 44ms/step - loss: 0.0072 - accuracy: 0.9975 - val_loss: 0.0456 - val_accuracy: 0.9894\n",
            "Epoch 9/10\n",
            "1876/1876 [==============================] - 86s 46ms/step - loss: 0.0061 - accuracy: 0.9980 - val_loss: 0.0622 - val_accuracy: 0.9866\n",
            "Epoch 10/10\n",
            "1876/1876 [==============================] - 85s 46ms/step - loss: 0.0058 - accuracy: 0.9980 - val_loss: 0.0390 - val_accuracy: 0.9899\n"
          ]
        }
      ]
    },
    {
      "cell_type": "code",
      "source": [
        "plt.plot(history.history['accuracy'], label='accuracy')\n",
        "plt.plot(history.history['val_accuracy'], label = 'val_accuracy')\n",
        "plt.xlabel('Epoch')\n",
        "plt.ylabel('Accuracy')\n",
        "plt.ylim([0.5, 1])\n",
        "plt.legend(loc='lower right')\n",
        "\n",
        "test_loss, test_acc = model.evaluate(x_test,  y_test, verbose=2)"
      ],
      "metadata": {
        "id": "oltlX0CPsccF",
        "outputId": "d9cfef09-eb77-4607-d994-f0d922deaf17",
        "colab": {
          "base_uri": "https://localhost:8080/",
          "height": 473
        }
      },
      "execution_count": 47,
      "outputs": [
        {
          "output_type": "stream",
          "name": "stdout",
          "text": [
            "313/313 - 4s - loss: 0.0390 - accuracy: 0.9899 - 4s/epoch - 12ms/step\n"
          ]
        },
        {
          "output_type": "display_data",
          "data": {
            "text/plain": [
              "<Figure size 640x480 with 1 Axes>"
            ],
            "image/png": "[encoded data removed]"
          },
          "metadata": {}
        }
      ]
    },
    {
      "cell_type": "code",
      "source": [
        "print(test_acc)"
      ],
      "metadata": {
        "id": "wv0cA0NOscfb",
        "outputId": "8c8a52ea-b5e2-49db-ca3e-683f0c6b75b5",
        "colab": {
          "base_uri": "https://localhost:8080/"
        }
      },
      "execution_count": 48,
      "outputs": [
        {
          "output_type": "stream",
          "name": "stdout",
          "text": [
            "0.9898999929428101\n"
          ]
        }
      ]
    },
    {
      "cell_type": "markdown",
      "source": [
        "**Configuration 3**"
      ],
      "metadata": {
        "id": "ZcHWhj9Zv8RS"
      }
    },
    {
      "cell_type": "code",
      "source": [
        "model = models.Sequential()\n",
        "model.add(layers.Conv2D(32, (3, 3), activation='relu', input_shape=(28, 28, 1)))\n",
        "model.add(layers.MaxPooling2D((2, 2)))\n",
        "model.add(layers.Conv2D(64, (3, 3), activation='relu'))\n",
        "model.add(layers.MaxPooling2D((2, 2)))\n",
        "model.add(layers.Conv2D(64, (3, 3), activation='relu'))\n",
        "model.add(layers.Flatten())\n",
        "model.add(layers.Dense(128, activation='relu'))\n",
        "model.add(layers.Dense(10))"
      ],
      "metadata": {
        "id": "jO3Wr01rvfHG"
      },
      "execution_count": 49,
      "outputs": []
    },
    {
      "cell_type": "code",
      "source": [
        "model.summary()"
      ],
      "metadata": {
        "id": "Y8TgR2_svfKS",
        "outputId": "f02c0bb6-b515-4780-d751-3bb2e9af971e",
        "colab": {
          "base_uri": "https://localhost:8080/"
        }
      },
      "execution_count": 50,
      "outputs": [
        {
          "output_type": "stream",
          "name": "stdout",
          "text": [
            "Model: \"sequential_5\"\n",
            "_________________________________________________________________\n",
            " Layer (type)                Output Shape              Param #   \n",
            "=================================================================\n",
            " conv2d_10 (Conv2D)          (None, 26, 26, 32)        320       \n",
            "                                                                 \n",
            " max_pooling2d_7 (MaxPoolin  (None, 13, 13, 32)        0         \n",
            " g2D)                                                            \n",
            "                                                                 \n",
            " conv2d_11 (Conv2D)          (None, 11, 11, 64)        18496     \n",
            "                                                                 \n",
            " max_pooling2d_8 (MaxPoolin  (None, 5, 5, 64)          0         \n",
            " g2D)                                                            \n",
            "                                                                 \n",
            " conv2d_12 (Conv2D)          (None, 3, 3, 64)          36928     \n",
            "                                                                 \n",
            " flatten_5 (Flatten)         (None, 576)               0         \n",
            "                                                                 \n",
            " dense_10 (Dense)            (None, 128)               73856     \n",
            "                                                                 \n",
            " dense_11 (Dense)            (None, 10)                1290      \n",
            "                                                                 \n",
            "=================================================================\n",
            "Total params: 130890 (511.29 KB)\n",
            "Trainable params: 130890 (511.29 KB)\n",
            "Non-trainable params: 0 (0.00 Byte)\n",
            "_________________________________________________________________\n"
          ]
        }
      ]
    },
    {
      "cell_type": "code",
      "source": [
        "model.compile(optimizer='adam',\n",
        "              loss=tf.keras.losses.SparseCategoricalCrossentropy(from_logits=True),\n",
        "              metrics=['accuracy'])"
      ],
      "metadata": {
        "id": "GRAeXkJevfNY"
      },
      "execution_count": 51,
      "outputs": []
    },
    {
      "cell_type": "code",
      "source": [
        "history = model.fit(x_train, y_train, epochs=10,\n",
        "                    validation_data=(x_test, y_test))"
      ],
      "metadata": {
        "id": "B9mliU4dvfRw",
        "outputId": "be4a2fca-e553-4ec6-ae8f-6a45b66bff59",
        "colab": {
          "base_uri": "https://localhost:8080/"
        }
      },
      "execution_count": 52,
      "outputs": [
        {
          "output_type": "stream",
          "name": "stdout",
          "text": [
            "Epoch 1/10\n",
            "1876/1876 [==============================] - 74s 39ms/step - loss: 0.1360 - accuracy: 0.9579 - val_loss: 0.0404 - val_accuracy: 0.9873\n",
            "Epoch 2/10\n",
            "1876/1876 [==============================] - 69s 37ms/step - loss: 0.0457 - accuracy: 0.9860 - val_loss: 0.0298 - val_accuracy: 0.9894\n",
            "Epoch 3/10\n",
            "1876/1876 [==============================] - 71s 38ms/step - loss: 0.0344 - accuracy: 0.9893 - val_loss: 0.0311 - val_accuracy: 0.9908\n",
            "Epoch 4/10\n",
            "1876/1876 [==============================] - 77s 41ms/step - loss: 0.0254 - accuracy: 0.9921 - val_loss: 0.0276 - val_accuracy: 0.9915\n",
            "Epoch 5/10\n",
            "1876/1876 [==============================] - 73s 39ms/step - loss: 0.0205 - accuracy: 0.9934 - val_loss: 0.0287 - val_accuracy: 0.9908\n",
            "Epoch 6/10\n",
            "1876/1876 [==============================] - 71s 38ms/step - loss: 0.0173 - accuracy: 0.9946 - val_loss: 0.0294 - val_accuracy: 0.9918\n",
            "Epoch 7/10\n",
            "1876/1876 [==============================] - 69s 37ms/step - loss: 0.0133 - accuracy: 0.9958 - val_loss: 0.0367 - val_accuracy: 0.9901\n",
            "Epoch 8/10\n",
            "1876/1876 [==============================] - 73s 39ms/step - loss: 0.0127 - accuracy: 0.9958 - val_loss: 0.0310 - val_accuracy: 0.9916\n",
            "Epoch 9/10\n",
            "1876/1876 [==============================] - 67s 36ms/step - loss: 0.0092 - accuracy: 0.9970 - val_loss: 0.0447 - val_accuracy: 0.9885\n",
            "Epoch 10/10\n",
            "1876/1876 [==============================] - 70s 37ms/step - loss: 0.0098 - accuracy: 0.9968 - val_loss: 0.0369 - val_accuracy: 0.9917\n"
          ]
        }
      ]
    },
    {
      "cell_type": "code",
      "source": [
        "plt.plot(history.history['accuracy'], label='accuracy')\n",
        "plt.plot(history.history['val_accuracy'], label = 'val_accuracy')\n",
        "plt.xlabel('Epoch')\n",
        "plt.ylabel('Accuracy')\n",
        "plt.ylim([0.5, 1])\n",
        "plt.legend(loc='lower right')\n",
        "\n",
        "test_loss, test_acc = model.evaluate(x_test,  y_test, verbose=2)"
      ],
      "metadata": {
        "id": "i7vNgd8kvfUo",
        "outputId": "686bf390-f036-4b40-dc06-109a2ba4f256",
        "colab": {
          "base_uri": "https://localhost:8080/",
          "height": 473
        }
      },
      "execution_count": 53,
      "outputs": [
        {
          "output_type": "stream",
          "name": "stdout",
          "text": [
            "313/313 - 3s - loss: 0.0369 - accuracy: 0.9917 - 3s/epoch - 8ms/step\n"
          ]
        },
        {
          "output_type": "display_data",
          "data": {
            "text/plain": [
              "<Figure size 640x480 with 1 Axes>"
            ],
            "image/png": "[encoded data removed]"
          },
          "metadata": {}
        }
      ]
    },
    {
      "cell_type": "code",
      "source": [
        "print(test_acc)"
      ],
      "metadata": {
        "id": "dODGamyzv4tC",
        "outputId": "6fc3fdde-1c15-45a8-938f-51e0f7e3dda8",
        "colab": {
          "base_uri": "https://localhost:8080/"
        }
      },
      "execution_count": 54,
      "outputs": [
        {
          "output_type": "stream",
          "name": "stdout",
          "text": [
            "0.9916999936103821\n"
          ]
        }
      ]
    },
    {
      "cell_type": "markdown",
      "source": [
        "**Create a custom test set**"
      ],
      "metadata": {
        "id": "jjZBUqLNwGPq"
      }
    },
    {
      "cell_type": "code",
      "source": [
        "custom_test_images = []\n",
        "custom_test_labels = []\n",
        "base_folder_path = '/content/drive/MyDrive/Assignment_1_TME_test'\n",
        "for folder_name in os.listdir(base_folder_path):\n",
        "    folder_path = os.path.join(base_folder_path, folder_name)\n",
        "    print(folder_path)\n",
        "    if os.path.isdir(folder_path):\n",
        "        for filename in os.listdir(folder_path):\n",
        "          print('filename', filename)\n",
        "          if filename.endswith('.png') or filename.endswith('.PNG') or filename.endswith('.JPG') or filename.endswith('.heic'):\n",
        "              img_path = os.path.join(folder_path, filename)\n",
        "              img = Image.open(img_path).convert('L')  # convert image to grayscale\n",
        "              img = img.resize((28, 28))  # resize image to match MNIST data\n",
        "              img = img.rotate(-90)\n",
        "              threshold = 100\n",
        "              img = img.point(lambda p: p > threshold and 255)\n",
        "              img_array = np.array(img)\n",
        "              custom_test_images.append(img_array)\n",
        "              custom_test_labels.append(int(folder_name))  # use folder name as label\n",
        "\n",
        "# Convert the list of custom images and labels to numpy arrays\n",
        "custom_test_images = np.array(custom_test_images)\n",
        "custom_test_labels = np.array(custom_test_labels)"
      ],
      "metadata": {
        "id": "pJ7w1JbTscx1",
        "outputId": "1a7d7216-876c-423a-d378-141f41f1e500",
        "colab": {
          "base_uri": "https://localhost:8080/"
        }
      },
      "execution_count": 60,
      "outputs": [
        {
          "output_type": "stream",
          "name": "stdout",
          "text": [
            "/content/drive/MyDrive/Assignment_1_TME_test/1\n",
            "filename Screen Shot 2023-10-06 at 8.40.09 AM.png\n",
            "/content/drive/MyDrive/Assignment_1_TME_test/0\n",
            "filename Screen Shot 2023-10-06 at 8.39.39 AM.png\n",
            "/content/drive/MyDrive/Assignment_1_TME_test/8\n",
            "filename Screen Shot 2023-10-06 at 8.41.17 AM.png\n",
            "/content/drive/MyDrive/Assignment_1_TME_test/7\n",
            "filename Screen Shot 2023-10-06 at 8.41.10 AM.png\n",
            "/content/drive/MyDrive/Assignment_1_TME_test/6\n",
            "filename Screen Shot 2023-10-06 at 8.41.03 AM.png\n",
            "/content/drive/MyDrive/Assignment_1_TME_test/5\n",
            "filename Screen Shot 2023-10-06 at 8.40.54 AM.png\n",
            "/content/drive/MyDrive/Assignment_1_TME_test/4\n",
            "filename Screen Shot 2023-10-06 at 8.40.47 AM.png\n",
            "/content/drive/MyDrive/Assignment_1_TME_test/3\n",
            "filename Screen Shot 2023-10-06 at 8.40.38 AM.png\n",
            "/content/drive/MyDrive/Assignment_1_TME_test/2\n",
            "filename Screen Shot 2023-10-06 at 8.40.30 AM.png\n",
            "/content/drive/MyDrive/Assignment_1_TME_test/9\n",
            "filename Screen Shot 2023-10-06 at 8.41.23 AM.png\n"
          ]
        }
      ]
    },
    {
      "cell_type": "code",
      "source": [
        "custom_test_labels, len(custom_test_labels)"
      ],
      "metadata": {
        "id": "mVJn6nKIs8Ds",
        "outputId": "f843e84e-c3f6-4d0e-8f0c-ee4332ab08f2",
        "colab": {
          "base_uri": "https://localhost:8080/"
        }
      },
      "execution_count": 61,
      "outputs": [
        {
          "output_type": "execute_result",
          "data": {
            "text/plain": [
              "(array([1, 0, 8, 7, 6, 5, 4, 3, 2, 9]), 10)"
            ]
          },
          "metadata": {},
          "execution_count": 61
        }
      ]
    },
    {
      "cell_type": "code",
      "source": [
        "custom_test_pred=model.predict(custom_test_images)"
      ],
      "metadata": {
        "id": "E_AQHk_fs8IP",
        "outputId": "6b798bae-54a4-4830-91e2-01bdaf23d200",
        "colab": {
          "base_uri": "https://localhost:8080/"
        }
      },
      "execution_count": 62,
      "outputs": [
        {
          "output_type": "stream",
          "name": "stdout",
          "text": [
            "1/1 [==============================] - 0s 25ms/step\n"
          ]
        }
      ]
    },
    {
      "cell_type": "markdown",
      "source": [
        "**Generate classifications**"
      ],
      "metadata": {
        "id": "jeTN0dIbwKiv"
      }
    },
    {
      "cell_type": "code",
      "source": [
        "for i in range(len(custom_test_pred)):\n",
        "  print(custom_test_labels[i],np.argmax(custom_test_pred[i]))"
      ],
      "metadata": {
        "id": "h7cT9efzs8MP",
        "outputId": "481054de-3d80-4aaf-ae9d-1e49ebab9735",
        "colab": {
          "base_uri": "https://localhost:8080/"
        }
      },
      "execution_count": 63,
      "outputs": [
        {
          "output_type": "stream",
          "name": "stdout",
          "text": [
            "1 7\n",
            "0 0\n",
            "8 8\n",
            "7 7\n",
            "6 6\n",
            "5 5\n",
            "4 5\n",
            "3 3\n",
            "2 2\n",
            "9 5\n"
          ]
        }
      ]
    },
    {
      "cell_type": "code",
      "source": [],
      "metadata": {
        "id": "CSDFv5THs8Pd"
      },
      "execution_count": null,
      "outputs": []
    },
    {
      "cell_type": "code",
      "source": [],
      "metadata": {
        "id": "xqAWuv5ds8Ss"
      },
      "execution_count": null,
      "outputs": []
    },
    {
      "cell_type": "code",
      "source": [],
      "metadata": {
        "id": "OQ4S2lvNs8WA"
      },
      "execution_count": null,
      "outputs": []
    },
    {
      "cell_type": "code",
      "source": [],
      "metadata": {
        "id": "USSkfBnks8Zs"
      },
      "execution_count": null,
      "outputs": []
    }
  ]
}